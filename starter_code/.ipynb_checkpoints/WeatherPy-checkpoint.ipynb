{
 "cells": [
  {
   "cell_type": "markdown",
   "metadata": {},
   "source": [
    "# WeatherPy\n",
    "----\n",
    "\n",
    "#### Note\n",
    "* Instructions have been included for each segment. You do not have to follow them exactly, but they are included to help you think through the steps."
   ]
  },
  {
   "cell_type": "code",
   "execution_count": 40,
   "metadata": {},
   "outputs": [
    {
     "name": "stdout",
     "output_type": "stream",
     "text": [
      "Requirement already satisfied: citipy in /Users/opheliaheard/opt/anaconda3/lib/python3.8/site-packages (0.0.5)\r\n",
      "Requirement already satisfied: kdtree>=0.12 in /Users/opheliaheard/opt/anaconda3/lib/python3.8/site-packages (from citipy) (0.16)\r\n"
     ]
    }
   ],
   "source": [
    "!pip install citipy"
   ]
  },
  {
   "cell_type": "code",
   "execution_count": 84,
   "metadata": {
    "scrolled": true
   },
   "outputs": [],
   "source": [
    "# Dependencies\n",
    "import json\n",
    "import requests\n",
    "import pandas as pd\n",
    "from api_keys import weather_api_key, g_key\n",
    "from citipy import citipy\n",
    "import numpy as np\n",
    "from scipy.stats import linregress\n",
    "from scipy import stats\n",
    "from pprint import pprint\n",
    "import os\n",
    "import datetime as dt\n",
    "\n",
    "#file; for the end\n",
    "data = \"../Output/cities.csv\"\n",
    "\n"
   ]
  },
  {
   "cell_type": "markdown",
   "metadata": {},
   "source": [
    "## Generate Cities List"
   ]
  },
  {
   "cell_type": "code",
   "execution_count": 85,
   "metadata": {},
   "outputs": [],
   "source": [
    "# Ranges of coords\n",
    "range_lat = (-90, 90)\n",
    "range_lng = (-180, 180)\n",
    "\n",
    "# List for holding coords and cities\n",
    "coordinates = []\n",
    "cities = []\n",
    "\n",
    "#gather random coords\n",
    "np.random.seed(1000)\n",
    "\n",
    "lats = np.random.uniform(range_lat[0], range_lat[1], size=2000)\n",
    "longs = lngs = np.random.uniform(range_lng[0], range_lng[1], size=2000)\n",
    "\n",
    "coordinates = zip(lats, longs)\n",
    "\n",
    "#Nearest city\n",
    "for coordinate in coordinates:\n",
    "    city = citipy.nearest_city(coordinate[0], coordinate[1]).city_name\n",
    "\n",
    "# If the city is unique, then add it to cities list\n",
    "    if city not in cities:\n",
    "        cities.append(city)\n",
    "        \n"
   ]
  },
  {
   "cell_type": "code",
   "execution_count": 86,
   "metadata": {},
   "outputs": [
    {
     "data": {
      "text/plain": [
       "759"
      ]
     },
     "execution_count": 86,
     "metadata": {},
     "output_type": "execute_result"
    }
   ],
   "source": [
    "# Print the city count to confirm sufficient count\n",
    "len(cities)"
   ]
  },
  {
   "cell_type": "code",
   "execution_count": 90,
   "metadata": {},
   "outputs": [
    {
     "data": {
      "text/html": [
       "<div>\n",
       "<style scoped>\n",
       "    .dataframe tbody tr th:only-of-type {\n",
       "        vertical-align: middle;\n",
       "    }\n",
       "\n",
       "    .dataframe tbody tr th {\n",
       "        vertical-align: top;\n",
       "    }\n",
       "\n",
       "    .dataframe thead th {\n",
       "        text-align: right;\n",
       "    }\n",
       "</style>\n",
       "<table border=\"1\" class=\"dataframe\">\n",
       "  <thead>\n",
       "    <tr style=\"text-align: right;\">\n",
       "      <th></th>\n",
       "      <th>City</th>\n",
       "      <th>Cloudiness</th>\n",
       "      <th>Country</th>\n",
       "      <th>Date</th>\n",
       "      <th>Humidity</th>\n",
       "      <th>Lat</th>\n",
       "      <th>Lng</th>\n",
       "      <th>Max Temp</th>\n",
       "      <th>Wind Speed</th>\n",
       "    </tr>\n",
       "  </thead>\n",
       "  <tbody>\n",
       "    <tr>\n",
       "      <th>0</th>\n",
       "      <td>dali</td>\n",
       "      <td>NaN</td>\n",
       "      <td>NaN</td>\n",
       "      <td>NaN</td>\n",
       "      <td>NaN</td>\n",
       "      <td>NaN</td>\n",
       "      <td>NaN</td>\n",
       "      <td>NaN</td>\n",
       "      <td>NaN</td>\n",
       "    </tr>\n",
       "    <tr>\n",
       "      <th>1</th>\n",
       "      <td>bluff</td>\n",
       "      <td>NaN</td>\n",
       "      <td>NaN</td>\n",
       "      <td>NaN</td>\n",
       "      <td>NaN</td>\n",
       "      <td>NaN</td>\n",
       "      <td>NaN</td>\n",
       "      <td>NaN</td>\n",
       "      <td>NaN</td>\n",
       "    </tr>\n",
       "    <tr>\n",
       "      <th>2</th>\n",
       "      <td>norman wells</td>\n",
       "      <td>NaN</td>\n",
       "      <td>NaN</td>\n",
       "      <td>NaN</td>\n",
       "      <td>NaN</td>\n",
       "      <td>NaN</td>\n",
       "      <td>NaN</td>\n",
       "      <td>NaN</td>\n",
       "      <td>NaN</td>\n",
       "    </tr>\n",
       "    <tr>\n",
       "      <th>3</th>\n",
       "      <td>tabiauea</td>\n",
       "      <td>NaN</td>\n",
       "      <td>NaN</td>\n",
       "      <td>NaN</td>\n",
       "      <td>NaN</td>\n",
       "      <td>NaN</td>\n",
       "      <td>NaN</td>\n",
       "      <td>NaN</td>\n",
       "      <td>NaN</td>\n",
       "    </tr>\n",
       "    <tr>\n",
       "      <th>4</th>\n",
       "      <td>leningradskiy</td>\n",
       "      <td>NaN</td>\n",
       "      <td>NaN</td>\n",
       "      <td>NaN</td>\n",
       "      <td>NaN</td>\n",
       "      <td>NaN</td>\n",
       "      <td>NaN</td>\n",
       "      <td>NaN</td>\n",
       "      <td>NaN</td>\n",
       "    </tr>\n",
       "  </tbody>\n",
       "</table>\n",
       "</div>"
      ],
      "text/plain": [
       "            City  Cloudiness  Country  Date  Humidity  Lat  Lng  Max Temp  \\\n",
       "0           dali         NaN      NaN   NaN       NaN  NaN  NaN       NaN   \n",
       "1          bluff         NaN      NaN   NaN       NaN  NaN  NaN       NaN   \n",
       "2   norman wells         NaN      NaN   NaN       NaN  NaN  NaN       NaN   \n",
       "3       tabiauea         NaN      NaN   NaN       NaN  NaN  NaN       NaN   \n",
       "4  leningradskiy         NaN      NaN   NaN       NaN  NaN  NaN       NaN   \n",
       "\n",
       "   Wind Speed  \n",
       "0         NaN  \n",
       "1         NaN  \n",
       "2         NaN  \n",
       "3         NaN  \n",
       "4         NaN  "
      ]
     },
     "execution_count": 90,
     "metadata": {},
     "output_type": "execute_result"
    }
   ],
   "source": [
    "# Convert city list to dataframe and rename column to \"city\"\n",
    "weather_dict = {\n",
    "    \"City\": cities,\n",
    "}\n",
    "weather_data = pd.DataFrame(weather_dict)\n",
    "\n",
    "# Add columns to cities dataframe\n",
    "weather_data[\"Cloudiness\"] = np.nan\n",
    "weather_data[\"Country\"] = np.nan\n",
    "weather_data[\"Date\"] = np.nan\n",
    "weather_data[\"Humidity\"] = np.nan\n",
    "weather_data[\"Lat\"] = np.nan\n",
    "weather_data[\"Lng\"] = np.nan\n",
    "weather_data[\"Max Temp\"] = np.nan\n",
    "weather_data[\"Wind Speed\"] = np.nan\n",
    "weather_data.head()"
   ]
  },
  {
   "cell_type": "code",
   "execution_count": null,
   "metadata": {},
   "outputs": [],
   "source": []
  },
  {
   "cell_type": "markdown",
   "metadata": {},
   "source": [
    "### Perform API Calls\n",
    "* Perform a weather check on each city using a series of successive API calls.\n",
    "* Include a print log of each city as it'sbeing processed (with the city number and city name).\n"
   ]
  },
  {
   "cell_type": "code",
   "execution_count": 94,
   "metadata": {
    "scrolled": true
   },
   "outputs": [
    {
     "name": "stdout",
     "output_type": "stream",
     "text": [
      "The weather API responded with: {'coord': {'lon': -0.1257, 'lat': 51.5085}, 'weather': [{'id': 802, 'main': 'Clouds', 'description': 'scattered clouds', 'icon': '03d'}], 'base': 'stations', 'main': {'temp': 42.75, 'feels_like': 42.75, 'temp_min': 38.17, 'temp_max': 46.04, 'pressure': 1013, 'humidity': 93}, 'visibility': 10000, 'wind': {'speed': 1.01, 'deg': 246, 'gust': 4}, 'clouds': {'all': 28}, 'dt': 1622003008, 'sys': {'type': 2, 'id': 2019646, 'country': 'GB', 'sunrise': 1622001276, 'sunset': 1622059251}, 'timezone': 3600, 'id': 2643743, 'name': 'London', 'cod': 200}.\n"
     ]
    }
   ],
   "source": [
    "# Save config information #reference\n",
    "url = \"http://api.openweathermap.org/data/2.5/weather?\"\n",
    "units = \"Imperial\"\n",
    "\n",
    "city = \"London\"\n",
    "\n",
    "# Build query URL | F-strings can be used too.\n",
    "# query_url = f\"{url}\"\"\n",
    "query_url = url + \"appid=\" + weather_api_key + \"&units=\" + units + \"&q=\" +city\n",
    "\n",
    "\n",
    "# Get weather data\n",
    "weather_response = requests.get(query_url)\n",
    "#convert to a json\n",
    "weather_json = weather_response.json()\n",
    "\n",
    "# Get the temperature from the response\n",
    "print(f\"The weather API responded with: {weather_json}.\")"
   ]
  },
  {
   "cell_type": "code",
   "execution_count": 103,
   "metadata": {},
   "outputs": [
    {
     "data": {
      "text/plain": [
       "{'coord': {'lon': 100.3354, 'lat': 5.4112},\n",
       " 'weather': [{'id': 801,\n",
       "   'main': 'Clouds',\n",
       "   'description': 'few clouds',\n",
       "   'icon': '02n'}],\n",
       " 'base': 'stations',\n",
       " 'main': {'temp': 300.57,\n",
       "  'feels_like': 304.72,\n",
       "  'temp_min': 299.81,\n",
       "  'temp_max': 301.42,\n",
       "  'pressure': 1008,\n",
       "  'humidity': 87},\n",
       " 'visibility': 8000,\n",
       " 'wind': {'speed': 2.68, 'deg': 90, 'gust': 0},\n",
       " 'clouds': {'all': 20},\n",
       " 'dt': 1622569055,\n",
       " 'sys': {'type': 2,\n",
       "  'id': 2037578,\n",
       "  'country': 'MY',\n",
       "  'sunrise': 1622588660,\n",
       "  'sunset': 1622633355},\n",
       " 'timezone': 28800,\n",
       " 'id': 1735106,\n",
       " 'name': 'George Town',\n",
       " 'cod': 200}"
      ]
     },
     "execution_count": 103,
     "metadata": {},
     "output_type": "execute_result"
    }
   ],
   "source": [
    "weather_json"
   ]
  },
  {
   "cell_type": "code",
   "execution_count": 111,
   "metadata": {},
   "outputs": [
    {
     "data": {
      "text/plain": [
       "100.3354"
      ]
     },
     "execution_count": 111,
     "metadata": {},
     "output_type": "execute_result"
    },
    {
     "data": {
      "text/plain": [
       "5.4112"
      ]
     },
     "execution_count": 111,
     "metadata": {},
     "output_type": "execute_result"
    },
    {
     "data": {
      "text/plain": [
       "20"
      ]
     },
     "execution_count": 111,
     "metadata": {},
     "output_type": "execute_result"
    },
    {
     "data": {
      "text/plain": [
       "'MY'"
      ]
     },
     "execution_count": 111,
     "metadata": {},
     "output_type": "execute_result"
    },
    {
     "data": {
      "text/plain": [
       "87"
      ]
     },
     "execution_count": 111,
     "metadata": {},
     "output_type": "execute_result"
    },
    {
     "data": {
      "text/plain": [
       "301.42"
      ]
     },
     "execution_count": 111,
     "metadata": {},
     "output_type": "execute_result"
    },
    {
     "data": {
      "text/plain": [
       "2.68"
      ]
     },
     "execution_count": 111,
     "metadata": {},
     "output_type": "execute_result"
    }
   ],
   "source": [
    "weather_json['coord']['lon']\n",
    "weather_json['coord']['lat']\n",
    "weather_json['clouds']['all']\n",
    "weather_json['sys']['country']\n",
    "weather_json['main']['humidity']\n",
    "weather_json['main']['temp_max']\n",
    "weather_json['wind']['speed']\n",
    "# dt.date(weather_json['dt'])"
   ]
  },
  {
   "cell_type": "code",
   "execution_count": 110,
   "metadata": {},
   "outputs": [
    {
     "data": {
      "text/plain": [
       "'2021-06-01 12:37:35'"
      ]
     },
     "execution_count": 110,
     "metadata": {},
     "output_type": "execute_result"
    }
   ],
   "source": [
    "dt.datetime.fromtimestamp(int(weather_json['dt'])).strftime('%Y-%m-%d %H:%M:%S')"
   ]
  },
  {
   "cell_type": "code",
   "execution_count": 114,
   "metadata": {},
   "outputs": [
    {
     "name": "stdout",
     "output_type": "stream",
     "text": [
      "The weather API responded with: {'coord': {'lon': 100.1833, 'lat': 25.7}, 'weather': [{'id': 801, 'main': 'Clouds', 'description': 'few clouds', 'icon': '02n'}], 'base': 'stations', 'main': {'temp': 290.02, 'feels_like': 290.09, 'temp_min': 290.02, 'temp_max': 290.02, 'pressure': 1008, 'humidity': 89, 'sea_level': 1008, 'grnd_level': 803}, 'visibility': 10000, 'wind': {'speed': 2.53, 'deg': 240, 'gust': 3.1}, 'clouds': {'all': 16}, 'dt': 1622571011, 'sys': {'country': 'CN', 'sunrise': 1622586485, 'sunset': 1622635603}, 'timezone': 28800, 'id': 1814093, 'name': 'Dali', 'cod': 200}.\n",
      "\n",
      "The weather API responded with: {'coord': {'lon': 168.3333, 'lat': -46.6}, 'weather': [{'id': 804, 'main': 'Clouds', 'description': 'overcast clouds', 'icon': '04n'}], 'base': 'stations', 'main': {'temp': 283.04, 'feels_like': 279.66, 'temp_min': 283.04, 'temp_max': 283.04, 'pressure': 1010, 'humidity': 87, 'sea_level': 1010, 'grnd_level': 1007}, 'visibility': 10000, 'wind': {'speed': 8.07, 'deg': 268, 'gust': 13.51}, 'clouds': {'all': 99}, 'dt': 1622571011, 'sys': {'type': 2, 'id': 2008959, 'country': 'NZ', 'sunrise': 1622578862, 'sunset': 1622610511}, 'timezone': 43200, 'id': 2206939, 'name': 'Bluff', 'cod': 200}.\n",
      "\n",
      "The weather API responded with: {'coord': {'lon': -126.8329, 'lat': 65.282}, 'weather': [{'id': 804, 'main': 'Clouds', 'description': 'overcast clouds', 'icon': '04d'}], 'base': 'stations', 'main': {'temp': 280.84, 'feels_like': 279.5, 'temp_min': 280.84, 'temp_max': 280.84, 'pressure': 1004, 'humidity': 92, 'sea_level': 1004, 'grnd_level': 997}, 'visibility': 10000, 'wind': {'speed': 2.17, 'deg': 294, 'gust': 3.45}, 'clouds': {'all': 100}, 'dt': 1622571012, 'sys': {'country': 'CA', 'sunrise': 1622541434, 'sunset': 1622616815}, 'timezone': -21600, 'id': 6089245, 'name': 'Norman Wells', 'cod': 200}.\n",
      "\n",
      "city not found\n",
      "The weather API responded with: {'cod': '404', 'message': 'city not found'}.\n",
      "\n",
      "The weather API responded with: {'coord': {'lon': 178.4167, 'lat': 69.3833}, 'weather': [{'id': 803, 'main': 'Clouds', 'description': 'broken clouds', 'icon': '04n'}], 'base': 'stations', 'main': {'temp': 270.94, 'feels_like': 264.95, 'temp_min': 270.94, 'temp_max': 270.94, 'pressure': 1019, 'humidity': 89, 'sea_level': 1019, 'grnd_level': 1018}, 'visibility': 10000, 'wind': {'speed': 5.9, 'deg': 118, 'gust': 8.54}, 'clouds': {'all': 71}, 'dt': 1622571334, 'sys': {'country': 'RU', 'sunrise': 0, 'sunset': 0}, 'timezone': 43200, 'id': 2123814, 'name': 'Leningradskiy', 'cod': 200}.\n",
      "\n",
      "The weather API responded with: {'coord': {'lon': 167.6833, 'lat': -46.1333}, 'weather': [{'id': 803, 'main': 'Clouds', 'description': 'broken clouds', 'icon': '04n'}], 'base': 'stations', 'main': {'temp': 283.05, 'feels_like': 281.84, 'temp_min': 283.05, 'temp_max': 283.05, 'pressure': 1011, 'humidity': 86, 'sea_level': 1011, 'grnd_level': 1008}, 'visibility': 10000, 'wind': {'speed': 2.52, 'deg': 308, 'gust': 6.64}, 'clouds': {'all': 82}, 'dt': 1622571334, 'sys': {'type': 2, 'id': 2008959, 'country': 'NZ', 'sunrise': 1622578916, 'sunset': 1622610768}, 'timezone': 43200, 'id': 2180815, 'name': 'Tuatapere', 'cod': 200}.\n",
      "\n",
      "The weather API responded with: {'coord': {'lon': 169.8464, 'lat': -46.2817}, 'weather': [{'id': 803, 'main': 'Clouds', 'description': 'broken clouds', 'icon': '04n'}], 'base': 'stations', 'main': {'temp': 281.44, 'feels_like': 278.71, 'temp_min': 281.44, 'temp_max': 281.44, 'pressure': 1010, 'humidity': 69, 'sea_level': 1010, 'grnd_level': 1009}, 'visibility': 10000, 'wind': {'speed': 4.74, 'deg': 295, 'gust': 14.06}, 'clouds': {'all': 80}, 'dt': 1622571334, 'sys': {'type': 2, 'id': 2000217, 'country': 'NZ', 'sunrise': 1622578429, 'sunset': 1622610217}, 'timezone': 43200, 'id': 2208248, 'name': 'Kaitangata', 'cod': 200}.\n",
      "\n",
      "The weather API responded with: {'coord': {'lon': -159.775, 'lat': -21.2078}, 'weather': [{'id': 801, 'main': 'Clouds', 'description': 'few clouds', 'icon': '02d'}], 'base': 'stations', 'main': {'temp': 293.18, 'feels_like': 293.69, 'temp_min': 293.18, 'temp_max': 293.18, 'pressure': 1016, 'humidity': 94}, 'visibility': 10000, 'wind': {'speed': 0.51, 'deg': 80}, 'clouds': {'all': 20}, 'dt': 1622571315, 'sys': {'type': 1, 'id': 7271, 'country': 'CK', 'sunrise': 1622567378, 'sunset': 1622606684}, 'timezone': -36000, 'id': 4035715, 'name': 'Avarua', 'cod': 200}.\n",
      "\n",
      "The weather API responded with: {'coord': {'lon': -175.2, 'lat': -21.2}, 'weather': [{'id': 500, 'main': 'Rain', 'description': 'light rain', 'icon': '10n'}], 'base': 'stations', 'main': {'temp': 295.24, 'feels_like': 295.96, 'temp_min': 295.24, 'temp_max': 295.24, 'pressure': 1015, 'humidity': 94}, 'visibility': 10000, 'wind': {'speed': 1.54, 'deg': 210}, 'rain': {'1h': 0.5}, 'clouds': {'all': 75}, 'dt': 1622571335, 'sys': {'type': 1, 'id': 7285, 'country': 'TO', 'sunrise': 1622657504, 'sunset': 1622696783}, 'timezone': 46800, 'id': 4032243, 'name': 'Vaini', 'cod': 200}.\n",
      "\n",
      "The weather API responded with: {'coord': {'lon': 143.3, 'lat': 59.3833}, 'weather': [{'id': 804, 'main': 'Clouds', 'description': 'overcast clouds', 'icon': '04d'}], 'base': 'stations', 'main': {'temp': 275.54, 'feels_like': 275.54, 'temp_min': 275.54, 'temp_max': 275.54, 'pressure': 1012, 'humidity': 96, 'sea_level': 1012, 'grnd_level': 1012}, 'visibility': 8473, 'wind': {'speed': 1.12, 'deg': 72, 'gust': 1.99}, 'clouds': {'all': 100}, 'dt': 1622571335, 'sys': {'country': 'RU', 'sunrise': 1622568061, 'sunset': 1622633328}, 'timezone': 36000, 'id': 2122605, 'name': 'Okhotsk', 'cod': 200}.\n",
      "\n",
      "The weather API responded with: {'coord': {'lon': -42.0278, 'lat': -22.9661}, 'weather': [{'id': 801, 'main': 'Clouds', 'description': 'few clouds', 'icon': '02d'}], 'base': 'stations', 'main': {'temp': 297.07, 'feels_like': 297.55, 'temp_min': 297.07, 'temp_max': 297.07, 'pressure': 1015, 'humidity': 78}, 'visibility': 10000, 'wind': {'speed': 5.66, 'deg': 200}, 'clouds': {'all': 20}, 'dt': 1622571335, 'sys': {'type': 1, 'id': 8326, 'country': 'BR', 'sunrise': 1622539310, 'sunset': 1622578228}, 'timezone': -10800, 'id': 3471451, 'name': 'Arraial do Cabo', 'cod': 200}.\n",
      "\n",
      "The weather API responded with: {'coord': {'lon': 118.9636, 'lat': 42.2683}, 'weather': [{'id': 804, 'main': 'Clouds', 'description': 'overcast clouds', 'icon': '04n'}], 'base': 'stations', 'main': {'temp': 287.39, 'feels_like': 286.49, 'temp_min': 287.39, 'temp_max': 287.39, 'pressure': 1004, 'humidity': 62, 'sea_level': 1004, 'grnd_level': 939}, 'visibility': 10000, 'wind': {'speed': 1.99, 'deg': 185, 'gust': 4.9}, 'clouds': {'all': 85}, 'dt': 1622571336, 'sys': {'country': 'CN', 'sunrise': 1622579404, 'sunset': 1622633668}, 'timezone': 28800, 'id': 2038067, 'name': 'Chifeng', 'cod': 200}.\n",
      "\n",
      "The weather API responded with: {'coord': {'lon': 73.0833, 'lat': -0.6}, 'weather': [{'id': 804, 'main': 'Clouds', 'description': 'overcast clouds', 'icon': '04n'}], 'base': 'stations', 'main': {'temp': 302.08, 'feels_like': 305.02, 'temp_min': 302.08, 'temp_max': 302.08, 'pressure': 1010, 'humidity': 66, 'sea_level': 1010, 'grnd_level': 1010}, 'visibility': 10000, 'wind': {'speed': 6.46, 'deg': 282, 'gust': 7.04}, 'clouds': {'all': 100}, 'dt': 1622571336, 'sys': {'country': 'MV', 'sunrise': 1622509383, 'sunset': 1622552896}, 'timezone': 18000, 'id': 1282256, 'name': 'Hithadhoo', 'cod': 200}.\n",
      "\n",
      "city not found\n",
      "The weather API responded with: {'cod': '404', 'message': 'city not found'}.\n",
      "\n",
      "city not found\n",
      "The weather API responded with: {'cod': '404', 'message': 'city not found'}.\n",
      "\n",
      "The weather API responded with: {'coord': {'lon': 19.2345, 'lat': -34.4187}, 'weather': [{'id': 800, 'main': 'Clear', 'description': 'clear sky', 'icon': '01n'}], 'base': 'stations', 'main': {'temp': 283.6, 'feels_like': 282.82, 'temp_min': 283.6, 'temp_max': 286.43, 'pressure': 1028, 'humidity': 81, 'sea_level': 1028, 'grnd_level': 1024}, 'visibility': 10000, 'wind': {'speed': 1.6, 'deg': 142, 'gust': 1.86}, 'clouds': {'all': 6}, 'dt': 1622571337, 'sys': {'type': 2, 'id': 2006131, 'country': 'ZA', 'sunrise': 1622526066, 'sunset': 1622562063}, 'timezone': 7200, 'id': 3366880, 'name': 'Hermanus', 'cod': 200}.\n",
      "\n",
      "The weather API responded with: {'coord': {'lon': 12.6934, 'lat': 67.667}, 'weather': [{'id': 800, 'main': 'Clear', 'description': 'clear sky', 'icon': '01n'}], 'base': 'stations', 'main': {'temp': 285.07, 'feels_like': 284.51, 'temp_min': 285.07, 'temp_max': 292.19, 'pressure': 1024, 'humidity': 84, 'sea_level': 1024, 'grnd_level': 1023}, 'visibility': 10000, 'wind': {'speed': 4.62, 'deg': 89, 'gust': 5.51}, 'clouds': {'all': 0}, 'dt': 1622571337, 'sys': {'type': 1, 'id': 1661, 'country': 'NO', 'sunrise': 0, 'sunset': 0}, 'timezone': 7200, 'id': 3137469, 'name': 'Sørland', 'cod': 200}.\n",
      "\n"
     ]
    },
    {
     "name": "stdout",
     "output_type": "stream",
     "text": [
      "The weather API responded with: {'coord': {'lon': 25.9704, 'lat': 70.9821}, 'weather': [{'id': 804, 'main': 'Clouds', 'description': 'overcast clouds', 'icon': '04n'}], 'base': 'stations', 'main': {'temp': 280.01, 'feels_like': 275.53, 'temp_min': 280.01, 'temp_max': 280.01, 'pressure': 1025, 'humidity': 87}, 'visibility': 10000, 'wind': {'speed': 8.75, 'deg': 260}, 'clouds': {'all': 90}, 'dt': 1622571337, 'sys': {'type': 1, 'id': 1638, 'country': 'NO', 'sunrise': 0, 'sunset': 0}, 'timezone': 7200, 'id': 779554, 'name': 'Honningsvåg', 'cod': 200}.\n",
      "\n",
      "The weather API responded with: {'coord': {'lon': 88.3972, 'lat': 69.4865}, 'weather': [{'id': 804, 'main': 'Clouds', 'description': 'overcast clouds', 'icon': '04n'}], 'base': 'stations', 'main': {'temp': 271.36, 'feels_like': 271.36, 'temp_min': 271.36, 'temp_max': 271.36, 'pressure': 1008, 'humidity': 97, 'sea_level': 1008, 'grnd_level': 999}, 'visibility': 10000, 'wind': {'speed': 0.83, 'deg': 224, 'gust': 1.07}, 'clouds': {'all': 90}, 'dt': 1622571338, 'sys': {'country': 'RU', 'sunrise': 0, 'sunset': 0}, 'timezone': 25200, 'id': 1490256, 'name': 'Talnakh', 'cod': 200}.\n",
      "\n",
      "The weather API responded with: {'coord': {'lon': 100.3354, 'lat': 5.4112}, 'weather': [{'id': 801, 'main': 'Clouds', 'description': 'few clouds', 'icon': '02n'}], 'base': 'stations', 'main': {'temp': 300.87, 'feels_like': 305.27, 'temp_min': 300.11, 'temp_max': 300.87, 'pressure': 1007, 'humidity': 85}, 'visibility': 8000, 'wind': {'speed': 1.22, 'deg': 109, 'gust': 1.35}, 'clouds': {'all': 20}, 'dt': 1622571309, 'sys': {'type': 2, 'id': 2037578, 'country': 'MY', 'sunrise': 1622588660, 'sunset': 1622633355}, 'timezone': 28800, 'id': 1735106, 'name': 'George Town', 'cod': 200}.\n",
      "\n"
     ]
    }
   ],
   "source": [
    "# Save config information\n",
    "url = \"http://api.openweathermap.org/data/2.5/weather?\"\n",
    "\n",
    "cities_found = []\n",
    "cloudiness = []\n",
    "countries = []\n",
    "dates = []\n",
    "humidities = []\n",
    "lats = []\n",
    "lngs = []\n",
    "max_temps = []\n",
    "wind_speeds = []\n",
    "\n",
    "# Use iterrows to loop through dataframe using the city name\n",
    "for city in cities[0:20]:\n",
    "    # Build query URL | F-strings can be used too.\n",
    "    # query_url = f\"{url}\"\"\n",
    "    query_url = url + \"appid=\" + weather_api_key + \"&q=\" + city.replace(\" \",\"+\")\n",
    "\n",
    "    # Get weather data\n",
    "    weather_response = requests.get(query_url)\n",
    "    #convert to a json\n",
    "    weather_json = weather_response.json()\n",
    "    try:\n",
    "        dates.append(dt.datetime.fromtimestamp(int(weather_json['dt'])).strftime('%Y-%m-%d %H:%M:%S'))\n",
    "        cloudiness.append(weather_json['clouds']['all'])\n",
    "        countries.append(weather_json['sys']['country'])\n",
    "        humidities.append(weather_json['main']['humidity'])\n",
    "        lats.append(weather_json['coord']['lat'])\n",
    "        lngs.append(weather_json['coord']['lon'])\n",
    "        max_temps.append(weather_json['main']['temp_max'])\n",
    "        wind_speeds.append(weather_json['wind']['speed'])\n",
    "        cities_found.append(city)\n",
    "    except:\n",
    "        print(\"city not found\")\n",
    "\n",
    "    # Get the temperature from the response\n",
    "    print(f\"The weather API responded with: {weather_json}.\" + \"\\n\")\n",
    "    \n",
    "    \n"
   ]
  },
  {
   "cell_type": "code",
   "execution_count": 116,
   "metadata": {},
   "outputs": [
    {
     "data": {
      "text/plain": [
       "17"
      ]
     },
     "execution_count": 116,
     "metadata": {},
     "output_type": "execute_result"
    }
   ],
   "source": [
    "(countries)"
   ]
  },
  {
   "cell_type": "markdown",
   "metadata": {},
   "source": [
    "### Convert Raw Data to DataFrame\n",
    "* Export the city data into a .csv.\n",
    "* Display the DataFrame"
   ]
  },
  {
   "cell_type": "code",
   "execution_count": null,
   "metadata": {},
   "outputs": [],
   "source": []
  },
  {
   "cell_type": "code",
   "execution_count": null,
   "metadata": {},
   "outputs": [],
   "source": []
  },
  {
   "cell_type": "markdown",
   "metadata": {},
   "source": [
    "## Inspect the data and remove the cities where the humidity > 100%.\n",
    "----\n",
    "Skip this step if there are no cities that have humidity > 100%. "
   ]
  },
  {
   "cell_type": "code",
   "execution_count": null,
   "metadata": {},
   "outputs": [],
   "source": []
  },
  {
   "cell_type": "code",
   "execution_count": 46,
   "metadata": {},
   "outputs": [],
   "source": [
    "#  Get the indices of cities that have humidity over 100%.\n"
   ]
  },
  {
   "cell_type": "code",
   "execution_count": 47,
   "metadata": {},
   "outputs": [],
   "source": [
    "# Make a new DataFrame equal to the city data to drop all humidity outliers by index.\n",
    "# Passing \"inplace=False\" will make a copy of the city_data DataFrame, which we call \"clean_city_data\".\n"
   ]
  },
  {
   "cell_type": "code",
   "execution_count": null,
   "metadata": {},
   "outputs": [],
   "source": [
    "\n"
   ]
  },
  {
   "cell_type": "markdown",
   "metadata": {},
   "source": [
    "## Plotting the Data\n",
    "* Use proper labeling of the plots using plot titles (including date of analysis) and axes labels.\n",
    "* Save the plotted figures as .pngs."
   ]
  },
  {
   "cell_type": "markdown",
   "metadata": {},
   "source": [
    "## Latitude vs. Temperature Plot"
   ]
  },
  {
   "cell_type": "code",
   "execution_count": null,
   "metadata": {
    "scrolled": true
   },
   "outputs": [],
   "source": []
  },
  {
   "cell_type": "markdown",
   "metadata": {},
   "source": [
    "## Latitude vs. Humidity Plot"
   ]
  },
  {
   "cell_type": "code",
   "execution_count": null,
   "metadata": {},
   "outputs": [],
   "source": []
  },
  {
   "cell_type": "markdown",
   "metadata": {},
   "source": [
    "## Latitude vs. Cloudiness Plot"
   ]
  },
  {
   "cell_type": "code",
   "execution_count": null,
   "metadata": {},
   "outputs": [],
   "source": []
  },
  {
   "cell_type": "markdown",
   "metadata": {},
   "source": [
    "## Latitude vs. Wind Speed Plot"
   ]
  },
  {
   "cell_type": "code",
   "execution_count": null,
   "metadata": {},
   "outputs": [],
   "source": []
  },
  {
   "cell_type": "markdown",
   "metadata": {},
   "source": [
    "## Linear Regression"
   ]
  },
  {
   "cell_type": "code",
   "execution_count": null,
   "metadata": {},
   "outputs": [],
   "source": []
  },
  {
   "cell_type": "markdown",
   "metadata": {},
   "source": [
    "####  Northern Hemisphere - Max Temp vs. Latitude Linear Regression"
   ]
  },
  {
   "cell_type": "code",
   "execution_count": null,
   "metadata": {},
   "outputs": [],
   "source": []
  },
  {
   "cell_type": "markdown",
   "metadata": {},
   "source": [
    "####  Southern Hemisphere - Max Temp vs. Latitude Linear Regression"
   ]
  },
  {
   "cell_type": "code",
   "execution_count": null,
   "metadata": {},
   "outputs": [],
   "source": []
  },
  {
   "cell_type": "markdown",
   "metadata": {},
   "source": [
    "####  Northern Hemisphere - Humidity (%) vs. Latitude Linear Regression"
   ]
  },
  {
   "cell_type": "code",
   "execution_count": null,
   "metadata": {},
   "outputs": [],
   "source": []
  },
  {
   "cell_type": "markdown",
   "metadata": {},
   "source": [
    "####  Southern Hemisphere - Humidity (%) vs. Latitude Linear Regression"
   ]
  },
  {
   "cell_type": "code",
   "execution_count": null,
   "metadata": {},
   "outputs": [],
   "source": []
  },
  {
   "cell_type": "markdown",
   "metadata": {},
   "source": [
    "####  Northern Hemisphere - Cloudiness (%) vs. Latitude Linear Regression"
   ]
  },
  {
   "cell_type": "code",
   "execution_count": null,
   "metadata": {},
   "outputs": [],
   "source": []
  },
  {
   "cell_type": "markdown",
   "metadata": {},
   "source": [
    "####  Southern Hemisphere - Cloudiness (%) vs. Latitude Linear Regression"
   ]
  },
  {
   "cell_type": "code",
   "execution_count": null,
   "metadata": {},
   "outputs": [],
   "source": []
  },
  {
   "cell_type": "markdown",
   "metadata": {},
   "source": [
    "####  Northern Hemisphere - Wind Speed (mph) vs. Latitude Linear Regression"
   ]
  },
  {
   "cell_type": "code",
   "execution_count": null,
   "metadata": {},
   "outputs": [],
   "source": []
  },
  {
   "cell_type": "markdown",
   "metadata": {},
   "source": [
    "####  Southern Hemisphere - Wind Speed (mph) vs. Latitude Linear Regression"
   ]
  },
  {
   "cell_type": "code",
   "execution_count": null,
   "metadata": {},
   "outputs": [],
   "source": []
  },
  {
   "cell_type": "code",
   "execution_count": null,
   "metadata": {},
   "outputs": [],
   "source": []
  }
 ],
 "metadata": {
  "anaconda-cloud": {},
  "kernel_info": {
   "name": "python3"
  },
  "kernelspec": {
   "display_name": "Python 3",
   "language": "python",
   "name": "python3"
  },
  "language_info": {
   "codemirror_mode": {
    "name": "ipython",
    "version": 3
   },
   "file_extension": ".py",
   "mimetype": "text/x-python",
   "name": "python",
   "nbconvert_exporter": "python",
   "pygments_lexer": "ipython3",
   "version": "3.8.5"
  },
  "latex_envs": {
   "LaTeX_envs_menu_present": true,
   "autoclose": false,
   "autocomplete": true,
   "bibliofile": "biblio.bib",
   "cite_by": "apalike",
   "current_citInitial": 1,
   "eqLabelWithNumbers": true,
   "eqNumInitial": 1,
   "hotkeys": {
    "equation": "Ctrl-E",
    "itemize": "Ctrl-I"
   },
   "labels_anchors": false,
   "latex_user_defs": false,
   "report_style_numbering": false,
   "user_envs_cfg": false
  },
  "nteract": {
   "version": "0.12.3"
  }
 },
 "nbformat": 4,
 "nbformat_minor": 2
}
