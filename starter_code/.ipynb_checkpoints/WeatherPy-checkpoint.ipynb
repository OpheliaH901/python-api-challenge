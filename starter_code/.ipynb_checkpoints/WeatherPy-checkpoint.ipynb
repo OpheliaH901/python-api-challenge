{
 "cells": [
  {
   "cell_type": "markdown",
   "metadata": {},
   "source": [
    "# WeatherPy\n",
    "----\n",
    "\n",
    "#### Note\n",
    "* Instructions have been included for each segment. You do not have to follow them exactly, but they are included to help you think through the steps."
   ]
  },
  {
   "cell_type": "code",
   "execution_count": 126,
   "metadata": {},
   "outputs": [
    {
     "name": "stdout",
     "output_type": "stream",
     "text": [
      "Requirement already satisfied: citipy in /Users/opheliaheard/opt/anaconda3/lib/python3.8/site-packages (0.0.5)\r\n",
      "Requirement already satisfied: kdtree>=0.12 in /Users/opheliaheard/opt/anaconda3/lib/python3.8/site-packages (from citipy) (0.16)\r\n"
     ]
    }
   ],
   "source": [
    "!pip install citipy"
   ]
  },
  {
   "cell_type": "code",
   "execution_count": 127,
   "metadata": {
    "scrolled": true
   },
   "outputs": [],
   "source": [
    "# Dependencies\n",
    "import json\n",
    "import requests\n",
    "import pandas as pd\n",
    "from api_keys import weather_api_key, g_key\n",
    "from citipy import citipy\n",
    "import numpy as np\n",
    "from scipy.stats import linregress\n",
    "from scipy import stats\n",
    "from pprint import pprint\n",
    "import os\n",
    "import datetime as dt\n",
    "import time\n",
    "\n",
    "#file; for the end\n",
    "data = \"../Output/cities.csv\"\n",
    "\n"
   ]
  },
  {
   "cell_type": "markdown",
   "metadata": {},
   "source": [
    "## Generate Cities List"
   ]
  },
  {
   "cell_type": "code",
   "execution_count": 128,
   "metadata": {},
   "outputs": [],
   "source": [
    "# Ranges of coords\n",
    "range_lat = (-90, 90)\n",
    "range_lng = (-180, 180)\n",
    "\n",
    "# List for holding coords and cities\n",
    "coordinates = []\n",
    "cities = []\n",
    "\n",
    "#gather random coords\n",
    "np.random.seed(1000)\n",
    "\n",
    "lats = np.random.uniform(range_lat[0], range_lat[1], size=2000)\n",
    "longs = lngs = np.random.uniform(range_lng[0], range_lng[1], size=2000)\n",
    "\n",
    "coordinates = zip(lats, longs)\n",
    "\n",
    "#Nearest city\n",
    "for coordinate in coordinates:\n",
    "    city = citipy.nearest_city(coordinate[0], coordinate[1]).city_name\n",
    "\n",
    "# If the city is unique, then add it to cities list\n",
    "    if city not in cities:\n",
    "        cities.append(city)\n",
    "        \n"
   ]
  },
  {
   "cell_type": "code",
   "execution_count": 129,
   "metadata": {},
   "outputs": [
    {
     "data": {
      "text/plain": [
       "759"
      ]
     },
     "execution_count": 129,
     "metadata": {},
     "output_type": "execute_result"
    }
   ],
   "source": [
    "# Print the city count to confirm sufficient count\n",
    "len(cities)"
   ]
  },
  {
   "cell_type": "code",
   "execution_count": 130,
   "metadata": {},
   "outputs": [
    {
     "data": {
      "text/html": [
       "<div>\n",
       "<style scoped>\n",
       "    .dataframe tbody tr th:only-of-type {\n",
       "        vertical-align: middle;\n",
       "    }\n",
       "\n",
       "    .dataframe tbody tr th {\n",
       "        vertical-align: top;\n",
       "    }\n",
       "\n",
       "    .dataframe thead th {\n",
       "        text-align: right;\n",
       "    }\n",
       "</style>\n",
       "<table border=\"1\" class=\"dataframe\">\n",
       "  <thead>\n",
       "    <tr style=\"text-align: right;\">\n",
       "      <th></th>\n",
       "      <th>City</th>\n",
       "      <th>Cloudiness</th>\n",
       "      <th>Country</th>\n",
       "      <th>Date</th>\n",
       "      <th>Humidity</th>\n",
       "      <th>Lat</th>\n",
       "      <th>Lng</th>\n",
       "      <th>Max Temp</th>\n",
       "      <th>Wind Speed</th>\n",
       "    </tr>\n",
       "  </thead>\n",
       "  <tbody>\n",
       "    <tr>\n",
       "      <th>0</th>\n",
       "      <td>dali</td>\n",
       "      <td>NaN</td>\n",
       "      <td>NaN</td>\n",
       "      <td>NaN</td>\n",
       "      <td>NaN</td>\n",
       "      <td>NaN</td>\n",
       "      <td>NaN</td>\n",
       "      <td>NaN</td>\n",
       "      <td>NaN</td>\n",
       "    </tr>\n",
       "    <tr>\n",
       "      <th>1</th>\n",
       "      <td>bluff</td>\n",
       "      <td>NaN</td>\n",
       "      <td>NaN</td>\n",
       "      <td>NaN</td>\n",
       "      <td>NaN</td>\n",
       "      <td>NaN</td>\n",
       "      <td>NaN</td>\n",
       "      <td>NaN</td>\n",
       "      <td>NaN</td>\n",
       "    </tr>\n",
       "    <tr>\n",
       "      <th>2</th>\n",
       "      <td>norman wells</td>\n",
       "      <td>NaN</td>\n",
       "      <td>NaN</td>\n",
       "      <td>NaN</td>\n",
       "      <td>NaN</td>\n",
       "      <td>NaN</td>\n",
       "      <td>NaN</td>\n",
       "      <td>NaN</td>\n",
       "      <td>NaN</td>\n",
       "    </tr>\n",
       "    <tr>\n",
       "      <th>3</th>\n",
       "      <td>tabiauea</td>\n",
       "      <td>NaN</td>\n",
       "      <td>NaN</td>\n",
       "      <td>NaN</td>\n",
       "      <td>NaN</td>\n",
       "      <td>NaN</td>\n",
       "      <td>NaN</td>\n",
       "      <td>NaN</td>\n",
       "      <td>NaN</td>\n",
       "    </tr>\n",
       "    <tr>\n",
       "      <th>4</th>\n",
       "      <td>leningradskiy</td>\n",
       "      <td>NaN</td>\n",
       "      <td>NaN</td>\n",
       "      <td>NaN</td>\n",
       "      <td>NaN</td>\n",
       "      <td>NaN</td>\n",
       "      <td>NaN</td>\n",
       "      <td>NaN</td>\n",
       "      <td>NaN</td>\n",
       "    </tr>\n",
       "  </tbody>\n",
       "</table>\n",
       "</div>"
      ],
      "text/plain": [
       "            City  Cloudiness  Country  Date  Humidity  Lat  Lng  Max Temp  \\\n",
       "0           dali         NaN      NaN   NaN       NaN  NaN  NaN       NaN   \n",
       "1          bluff         NaN      NaN   NaN       NaN  NaN  NaN       NaN   \n",
       "2   norman wells         NaN      NaN   NaN       NaN  NaN  NaN       NaN   \n",
       "3       tabiauea         NaN      NaN   NaN       NaN  NaN  NaN       NaN   \n",
       "4  leningradskiy         NaN      NaN   NaN       NaN  NaN  NaN       NaN   \n",
       "\n",
       "   Wind Speed  \n",
       "0         NaN  \n",
       "1         NaN  \n",
       "2         NaN  \n",
       "3         NaN  \n",
       "4         NaN  "
      ]
     },
     "execution_count": 130,
     "metadata": {},
     "output_type": "execute_result"
    }
   ],
   "source": [
    "# Convert city list to dataframe and rename column to \"city\"\n",
    "weather_dict = {\n",
    "    \"City\": cities,\n",
    "}\n",
    "weather_data = pd.DataFrame(weather_dict)\n",
    "\n",
    "# Add columns to cities dataframe\n",
    "weather_data[\"Cloudiness\"] = np.nan\n",
    "weather_data[\"Country\"] = np.nan\n",
    "weather_data[\"Date\"] = np.nan\n",
    "weather_data[\"Humidity\"] = np.nan\n",
    "weather_data[\"Lat\"] = np.nan\n",
    "weather_data[\"Lng\"] = np.nan\n",
    "weather_data[\"Max Temp\"] = np.nan\n",
    "weather_data[\"Wind Speed\"] = np.nan\n",
    "weather_data.head()"
   ]
  },
  {
   "cell_type": "code",
   "execution_count": null,
   "metadata": {},
   "outputs": [],
   "source": []
  },
  {
   "cell_type": "markdown",
   "metadata": {},
   "source": [
    "### Perform API Calls\n",
    "* Perform a weather check on each city using a series of successive API calls.\n",
    "* Include a print log of each city as it'sbeing processed (with the city number and city name).\n"
   ]
  },
  {
   "cell_type": "code",
   "execution_count": 131,
   "metadata": {
    "scrolled": true
   },
   "outputs": [
    {
     "name": "stdout",
     "output_type": "stream",
     "text": [
      "The weather API responded with: {'coord': {'lon': -0.1257, 'lat': 51.5085}, 'weather': [{'id': 804, 'main': 'Clouds', 'description': 'overcast clouds', 'icon': '04d'}], 'base': 'stations', 'main': {'temp': 74.23, 'feels_like': 73.56, 'temp_min': 66.74, 'temp_max': 77.18, 'pressure': 1013, 'humidity': 47}, 'visibility': 10000, 'wind': {'speed': 3, 'deg': 92, 'gust': 8.99}, 'clouds': {'all': 85}, 'dt': 1622655152, 'sys': {'type': 2, 'id': 268730, 'country': 'GB', 'sunrise': 1622605698, 'sunset': 1622664543}, 'timezone': 3600, 'id': 2643743, 'name': 'London', 'cod': 200}.\n"
     ]
    }
   ],
   "source": [
    "# Save config information #reference\n",
    "url = \"http://api.openweathermap.org/data/2.5/weather?\"\n",
    "units = \"Imperial\"\n",
    "\n",
    "city = \"London\"\n",
    "\n",
    "# Build query URL | F-strings can be used too.\n",
    "# query_url = f\"{url}\"\"\n",
    "query_url = url + \"appid=\" + weather_api_key + \"&units=\" + units + \"&q=\" +city\n",
    "\n",
    "\n",
    "# Get weather data\n",
    "weather_response = requests.get(query_url)\n",
    "#convert to a json\n",
    "weather_json = weather_response.json()\n",
    "\n",
    "# Get the temperature from the response\n",
    "print(f\"The weather API responded with: {weather_json}.\")"
   ]
  },
  {
   "cell_type": "code",
   "execution_count": 132,
   "metadata": {},
   "outputs": [
    {
     "data": {
      "text/plain": [
       "{'coord': {'lon': -0.1257, 'lat': 51.5085},\n",
       " 'weather': [{'id': 804,\n",
       "   'main': 'Clouds',\n",
       "   'description': 'overcast clouds',\n",
       "   'icon': '04d'}],\n",
       " 'base': 'stations',\n",
       " 'main': {'temp': 74.23,\n",
       "  'feels_like': 73.56,\n",
       "  'temp_min': 66.74,\n",
       "  'temp_max': 77.18,\n",
       "  'pressure': 1013,\n",
       "  'humidity': 47},\n",
       " 'visibility': 10000,\n",
       " 'wind': {'speed': 3, 'deg': 92, 'gust': 8.99},\n",
       " 'clouds': {'all': 85},\n",
       " 'dt': 1622655152,\n",
       " 'sys': {'type': 2,\n",
       "  'id': 268730,\n",
       "  'country': 'GB',\n",
       "  'sunrise': 1622605698,\n",
       "  'sunset': 1622664543},\n",
       " 'timezone': 3600,\n",
       " 'id': 2643743,\n",
       " 'name': 'London',\n",
       " 'cod': 200}"
      ]
     },
     "execution_count": 132,
     "metadata": {},
     "output_type": "execute_result"
    }
   ],
   "source": [
    "weather_json"
   ]
  },
  {
   "cell_type": "code",
   "execution_count": 133,
   "metadata": {},
   "outputs": [
    {
     "data": {
      "text/plain": [
       "-0.1257"
      ]
     },
     "execution_count": 133,
     "metadata": {},
     "output_type": "execute_result"
    },
    {
     "data": {
      "text/plain": [
       "51.5085"
      ]
     },
     "execution_count": 133,
     "metadata": {},
     "output_type": "execute_result"
    },
    {
     "data": {
      "text/plain": [
       "85"
      ]
     },
     "execution_count": 133,
     "metadata": {},
     "output_type": "execute_result"
    },
    {
     "data": {
      "text/plain": [
       "'GB'"
      ]
     },
     "execution_count": 133,
     "metadata": {},
     "output_type": "execute_result"
    },
    {
     "data": {
      "text/plain": [
       "47"
      ]
     },
     "execution_count": 133,
     "metadata": {},
     "output_type": "execute_result"
    },
    {
     "data": {
      "text/plain": [
       "77.18"
      ]
     },
     "execution_count": 133,
     "metadata": {},
     "output_type": "execute_result"
    },
    {
     "data": {
      "text/plain": [
       "3"
      ]
     },
     "execution_count": 133,
     "metadata": {},
     "output_type": "execute_result"
    }
   ],
   "source": [
    "weather_json['coord']['lon']\n",
    "weather_json['coord']['lat']\n",
    "weather_json['clouds']['all']\n",
    "weather_json['sys']['country']\n",
    "weather_json['main']['humidity']\n",
    "weather_json['main']['temp_max']\n",
    "weather_json['wind']['speed']\n",
    "# dt.date(weather_json['dt'])"
   ]
  },
  {
   "cell_type": "code",
   "execution_count": 134,
   "metadata": {},
   "outputs": [
    {
     "data": {
      "text/plain": [
       "'2021-06-02 12:32:32'"
      ]
     },
     "execution_count": 134,
     "metadata": {},
     "output_type": "execute_result"
    }
   ],
   "source": [
    "dt.datetime.fromtimestamp(int(weather_json['dt'])).strftime('%Y-%m-%d %H:%M:%S')"
   ]
  },
  {
   "cell_type": "code",
   "execution_count": 135,
   "metadata": {},
   "outputs": [
    {
     "name": "stdout",
     "output_type": "stream",
     "text": [
      "✅dali data processing\n",
      "✅bluff data processing\n",
      "✅norman wells data processing\n",
      "❌tabiauea not found\n",
      "✅leningradskiy data processing\n",
      "✅tuatapere data processing\n",
      "✅kaitangata data processing\n",
      "✅avarua data processing\n",
      "✅vaini data processing\n",
      "✅okhotsk data processing\n",
      "✅arraial do cabo data processing\n",
      "✅chifeng data processing\n",
      "✅hithadhoo data processing\n",
      "❌tsihombe not found\n",
      "❌tasbuget not found\n",
      "✅hermanus data processing\n",
      "✅sorland data processing\n",
      "✅honningsvag data processing\n",
      "✅talnakh data processing\n",
      "✅georgetown data processing\n",
      "✅port alfred data processing\n",
      "✅barrow data processing\n",
      "✅rikitea data processing\n",
      "✅seoul data processing\n",
      "✅punta arenas data processing\n",
      "✅oktyabrskoye data processing\n",
      "✅hasaki data processing\n",
      "✅atasu data processing\n",
      "❌taburi not found\n",
      "✅ilulissat data processing\n",
      "✅tromso data processing\n",
      "✅ushuaia data processing\n",
      "✅mahebourg data processing\n",
      "❌aybak not found\n",
      "✅zhigansk data processing\n",
      "✅saint-philippe data processing\n",
      "✅atuona data processing\n",
      "✅nikolskoye data processing\n",
      "✅san cristobal data processing\n",
      "✅busselton data processing\n",
      "✅saskylakh data processing\n",
      "✅kawalu data processing\n",
      "✅airai data processing\n",
      "✅ahipara data processing\n",
      "❌sentyabrskiy not found\n",
      "✅biak data processing\n",
      "✅uribia data processing\n",
      "✅sumbe data processing\n",
      "✅mar del plata data processing\n",
      "✅esperance data processing\n",
      "✅jamestown data processing\n",
      "✅wattegama data processing\n",
      "✅lorengau data processing\n",
      "✅russell data processing\n",
      "✅butaritari data processing\n",
      "✅rovaniemi data processing\n",
      "❌sorvag not found\n",
      "✅isangel data processing\n",
      "✅darnah data processing\n",
      "✅saint george data processing\n",
      "✅puerto ayora data processing\n",
      "✅saint anthony data processing\n",
      "✅bangolo data processing\n",
      "✅albany data processing\n",
      "✅carnarvon data processing\n",
      "✅longyearbyen data processing\n",
      "✅hebi data processing\n",
      "✅vestmanna data processing\n",
      "✅jiuquan data processing\n",
      "✅phuket data processing\n",
      "✅great yarmouth data processing\n",
      "✅richards bay data processing\n",
      "✅faya data processing\n",
      "✅victoria data processing\n",
      "✅katsuura data processing\n",
      "✅hurghada data processing\n",
      "✅vila velha data processing\n",
      "✅aklavik data processing\n",
      "✅mus data processing\n",
      "❌tungkang not found\n",
      "✅wakkanai data processing\n",
      "✅dingle data processing\n",
      "✅mahon data processing\n",
      "✅eyl data processing\n",
      "✅prabumulih data processing\n",
      "✅tingo maria data processing\n",
      "✅sitka data processing\n",
      "❌illoqqortoormiut not found\n",
      "✅bethel data processing\n",
      "✅jiangyou data processing\n",
      "✅kavieng data processing\n",
      "✅castro data processing\n",
      "✅faanui data processing\n",
      "✅kavaratti data processing\n",
      "✅harboore data processing\n",
      "✅puerto suarez data processing\n",
      "✅college data processing\n",
      "✅flin flon data processing\n",
      "✅guerrero negro data processing\n",
      "✅kaura namoda data processing\n",
      "❌belushya guba not found\n",
      "✅shetpe data processing\n",
      "✅coihaique data processing\n",
      "❌saleaula not found\n",
      "✅dzilam gonzalez data processing\n",
      "✅bata data processing\n",
      "✅bengkulu data processing\n",
      "✅inhambane data processing\n",
      "✅upernavik data processing\n",
      "✅luderitz data processing\n",
      "✅mount gambier data processing\n",
      "❌amderma not found\n",
      "❌taolanaro not found\n",
      "✅pucallpa data processing\n",
      "✅oranjemund data processing\n",
      "✅kapaa data processing\n",
      "✅havelock data processing\n",
      "❌karaul not found\n",
      "✅chokurdakh data processing\n",
      "❌barentsburg not found\n",
      "❌grand river south east not found\n",
      "✅leshukonskoye data processing\n",
      "✅morehead data processing\n",
      "✅tessalit data processing\n",
      "✅vostok data processing\n",
      "✅manicore data processing\n",
      "✅qaqortoq data processing\n",
      "✅vernon data processing\n",
      "✅chuy data processing\n",
      "✅rafaela data processing\n",
      "✅havre-saint-pierre data processing\n",
      "✅cidreira data processing\n",
      "✅east london data processing\n",
      "✅bambous virieux data processing\n",
      "✅mataura data processing\n",
      "✅egvekinot data processing\n",
      "✅cuitzeo data processing\n",
      "✅qaanaaq data processing\n",
      "✅pontes e lacerda data processing\n",
      "✅nelson bay data processing\n",
      "✅saldanha data processing\n",
      "✅kautokeino data processing\n",
      "✅yellowknife data processing\n",
      "✅kamenka data processing\n",
      "✅new norfolk data processing\n",
      "✅hilo data processing\n",
      "✅alekseyevka data processing\n",
      "✅vrangel data processing\n",
      "✅hay river data processing\n",
      "✅portland data processing\n",
      "✅stromness data processing\n",
      "✅jalu data processing\n",
      "✅berlevag data processing\n",
      "✅takoradi data processing\n",
      "✅clyde river data processing\n",
      "✅noumea data processing\n",
      "✅sao tome data processing\n",
      "✅vila franca do campo data processing\n",
      "✅cap malheureux data processing\n",
      "✅abyek data processing\n",
      "✅udomlya data processing\n",
      "✅nizhniy kuranakh data processing\n",
      "✅teguldet data processing\n",
      "✅odweyne data processing\n",
      "✅la romana data processing\n",
      "❌tumannyy not found\n",
      "✅rosarito data processing\n",
      "✅mumford data processing\n",
      "❌mocambique not found\n",
      "✅tasiilaq data processing\n",
      "✅tibati data processing\n",
      "✅barsovo data processing\n",
      "✅mantua data processing\n",
      "✅ancud data processing\n",
      "✅larsnes data processing\n",
      "✅san quintin data processing\n",
      "✅byron bay data processing\n",
      "✅ocampo data processing\n",
      "❌vaitupu not found\n",
      "✅nanortalik data processing\n",
      "✅morgan city data processing\n",
      "✅lencois paulista data processing\n",
      "✅itapirapua data processing\n",
      "✅samfya data processing\n",
      "✅santa isabel do rio negro data processing\n",
      "✅kodiak data processing\n",
      "✅beira data processing\n",
      "❌katsiveli not found\n",
      "✅jingdezhen data processing\n",
      "✅brooks data processing\n",
      "✅huamachuco data processing\n",
      "✅te anau data processing\n",
      "✅suining data processing\n",
      "✅lundazi data processing\n",
      "✅sorkjosen data processing\n",
      "✅lebu data processing\n",
      "✅berdigestyakh data processing\n",
      "✅saiki data processing\n",
      "❌attawapiskat not found\n",
      "✅severo-kurilsk data processing\n",
      "✅antofagasta data processing\n",
      "✅kolda data processing\n",
      "✅rizhao data processing\n",
      "✅cape town data processing\n",
      "✅san patricio data processing\n",
      "❌nizhneyansk not found\n",
      "✅acarau data processing\n",
      "✅vao data processing\n",
      "❌zachagansk not found\n",
      "✅lagoa data processing\n",
      "✅iwanai data processing\n",
      "✅cabo san lucas data processing\n",
      "✅geraldton data processing\n",
      "✅bredasdorp data processing\n",
      "✅bloemhof data processing\n",
      "✅amaraji data processing\n",
      "✅laguna data processing\n",
      "✅thompson data processing\n",
      "✅matagami data processing\n",
      "✅provideniya data processing\n",
      "✅awbari data processing\n",
      "✅hambantota data processing\n",
      "✅chingola data processing\n",
      "✅sur data processing\n",
      "✅vila data processing\n",
      "✅nampula data processing\n",
      "✅lata data processing\n",
      "✅alice springs data processing\n",
      "❌bargal not found\n",
      "✅aktas data processing\n",
      "✅hobart data processing\n",
      "✅kalabo data processing\n",
      "✅mersing data processing\n",
      "✅port blair data processing\n",
      "✅pisco data processing\n",
      "✅guiratinga data processing\n",
      "✅sinnamary data processing\n",
      "✅luba data processing\n",
      "✅tuktoyaktuk data processing\n",
      "✅nuuk data processing\n",
      "✅lompoc data processing\n",
      "✅kirakira data processing\n",
      "✅kahului data processing\n",
      "✅sao filipe data processing\n",
      "✅fortuna data processing\n",
      "✅srednekolymsk data processing\n",
      "✅susangerd data processing\n",
      "✅amga data processing\n",
      "✅marand data processing\n",
      "✅yar-sale data processing\n",
      "✅sechura data processing\n",
      "✅meulaboh data processing\n",
      "✅torbay data processing\n",
      "❌maymanak not found\n",
      "✅bairnsdale data processing\n",
      "✅hovd data processing\n",
      "✅iqaluit data processing\n",
      "✅margate data processing\n",
      "✅yamada data processing\n",
      "✅sao gabriel da cachoeira data processing\n",
      "✅san policarpo data processing\n",
      "✅henties bay data processing\n",
      "✅yangambi data processing\n",
      "✅salalah data processing\n",
      "✅smolenka data processing\n",
      "✅nadym data processing\n",
      "✅pangnirtung data processing\n",
      "✅yuanping data processing\n",
      "✅pevek data processing\n",
      "✅dudinka data processing\n",
      "✅vestmannaeyjar data processing\n",
      "✅navalgund data processing\n",
      "✅severo-yeniseyskiy data processing\n",
      "✅tiksi data processing\n",
      "✅kintampo data processing\n",
      "✅ponta do sol data processing\n",
      "✅maniitsoq data processing\n",
      "✅fairbanks data processing\n",
      "✅gat data processing\n",
      "✅salym data processing\n",
      "✅mayo data processing\n",
      "✅vardo data processing\n",
      "✅basqal data processing\n",
      "✅bubaque data processing\n",
      "✅narsaq data processing\n",
      "❌uwayl not found\n",
      "✅los llanos de aridane data processing\n",
      "✅kurya data processing\n",
      "✅port elizabeth data processing\n",
      "✅mirabad data processing\n",
      "✅adrar data processing\n",
      "✅sola data processing\n",
      "✅zyryanka data processing\n",
      "✅watertown data processing\n",
      "❌samusu not found\n",
      "❌sidi qasim not found\n",
      "✅muriwai beach data processing\n",
      "✅bull savanna data processing\n",
      "✅jiaohe data processing\n",
      "✅villablino data processing\n",
      "✅goderich data processing\n",
      "✅san remo data processing\n",
      "✅rusera data processing\n",
      "❌kegayli not found\n",
      "✅los zacatones data processing\n",
      "✅soure data processing\n",
      "❌qafsah not found\n",
      "✅tashtagol data processing\n",
      "✅matay data processing\n",
      "✅flinders data processing\n",
      "❌puerto cortes not found\n",
      "✅tiznit data processing\n",
      "✅ulaanbaatar data processing\n",
      "✅katherine data processing\n",
      "❌meyungs not found\n",
      "✅lahaina data processing\n",
      "✅caravelas data processing\n"
     ]
    },
    {
     "name": "stdout",
     "output_type": "stream",
     "text": [
      "✅ribeira grande data processing\n",
      "❌palabuhanratu not found\n",
      "✅okha data processing\n",
      "✅maningrida data processing\n",
      "✅komsomolskiy data processing\n",
      "✅camopi data processing\n",
      "❌ituni not found\n",
      "✅kungurtug data processing\n",
      "✅rio verde de mato grosso data processing\n",
      "✅sandnessjoen data processing\n",
      "✅olafsvik data processing\n",
      "✅kidal data processing\n",
      "✅samarai data processing\n",
      "✅nome data processing\n",
      "✅shwebo data processing\n",
      "❌nguiu not found\n",
      "✅namatanai data processing\n",
      "✅ambatofinandrahana data processing\n",
      "✅anaconda data processing\n",
      "✅abhar data processing\n",
      "✅darlawn data processing\n",
      "✅paamiut data processing\n",
      "✅dondo data processing\n",
      "✅boa vista data processing\n",
      "❌marcona not found\n",
      "✅anadyr data processing\n",
      "✅pandaan data processing\n",
      "✅pimenta bueno data processing\n",
      "✅abu dhabi data processing\n",
      "✅kichera data processing\n",
      "✅urussu data processing\n",
      "✅cabatuan data processing\n",
      "✅leona vicario data processing\n",
      "❌turtkul not found\n",
      "✅mehamn data processing\n",
      "✅dobre miasto data processing\n",
      "✅prado data processing\n",
      "✅tezu data processing\n",
      "✅zabol data processing\n",
      "✅angoche data processing\n",
      "✅juegang data processing\n",
      "✅shadrinsk data processing\n",
      "✅enid data processing\n",
      "✅boende data processing\n",
      "❌louisbourg not found\n",
      "✅arlit data processing\n",
      "✅hami data processing\n",
      "✅igarka data processing\n",
      "✅gambissara data processing\n",
      "✅tonj data processing\n",
      "✅broome data processing\n",
      "✅salinas data processing\n",
      "✅mollendo data processing\n",
      "✅sakaiminato data processing\n",
      "✅saint simons data processing\n",
      "❌bababe not found\n",
      "✅shanhetun data processing\n",
      "✅fethiye data processing\n",
      "✅port hardy data processing\n",
      "✅asau data processing\n",
      "✅luganville data processing\n",
      "✅chapais data processing\n",
      "✅kurkino data processing\n",
      "✅ostrovnoy data processing\n",
      "✅beringovskiy data processing\n",
      "✅sisimiut data processing\n",
      "✅biloela data processing\n",
      "✅wilmington data processing\n",
      "✅kihei data processing\n",
      "✅tazovskiy data processing\n",
      "✅saint-francois data processing\n",
      "✅yagodnoye data processing\n",
      "✅codrington data processing\n",
      "✅marsaxlokk data processing\n",
      "✅cairns data processing\n",
      "✅tilichiki data processing\n",
      "✅catuday data processing\n",
      "✅klaksvik data processing\n",
      "✅korla data processing\n",
      "✅nabire data processing\n",
      "✅great falls data processing\n",
      "✅ravar data processing\n",
      "✅ondjiva data processing\n",
      "✅alofi data processing\n",
      "✅tabuk data processing\n",
      "✅kobyzhcha data processing\n",
      "✅esil data processing\n",
      "✅gamba data processing\n",
      "✅axim data processing\n",
      "✅bonthe data processing\n",
      "✅petropavlovsk-kamchatskiy data processing\n",
      "✅shenzhen data processing\n",
      "✅comodoro rivadavia data processing\n",
      "✅krasnoborsk data processing\n",
      "✅grindavik data processing\n",
      "✅tupsan data processing\n",
      "✅muravlenko data processing\n",
      "✅khatanga data processing\n",
      "✅suntar data processing\n",
      "✅poum data processing\n",
      "✅americus data processing\n",
      "✅bartica data processing\n",
      "✅san rafael data processing\n",
      "✅bowen data processing\n",
      "❌umm durman not found\n",
      "✅bukama data processing\n",
      "✅sao benedito do rio preto data processing\n",
      "✅bereda data processing\n",
      "✅palu data processing\n",
      "✅anori data processing\n",
      "✅waipawa data processing\n",
      "✅moerai data processing\n",
      "✅fernley data processing\n",
      "✅concarneau data processing\n",
      "✅illapel data processing\n",
      "✅mahajanga data processing\n",
      "✅ketchikan data processing\n",
      "✅la asuncion data processing\n",
      "✅mount isa data processing\n",
      "✅muzhi data processing\n",
      "✅mattru data processing\n",
      "✅trinidad data processing\n",
      "✅maragogi data processing\n",
      "✅southbridge data processing\n",
      "✅yerbogachen data processing\n",
      "✅saeby data processing\n",
      "✅klooga data processing\n",
      "✅coahuayana data processing\n",
      "✅inirida data processing\n",
      "✅dikson data processing\n",
      "✅jijiga data processing\n",
      "✅kalengwa data processing\n",
      "✅sergeyevka data processing\n",
      "✅mocajuba data processing\n",
      "✅dabakala data processing\n",
      "✅xai-xai data processing\n",
      "✅saravan data processing\n",
      "✅vincennes data processing\n",
      "✅bathsheba data processing\n",
      "✅verkhoyansk data processing\n",
      "✅malabo data processing\n",
      "❌temaraia not found\n",
      "✅kattivakkam data processing\n",
      "✅naze data processing\n",
      "✅mayumba data processing\n",
      "✅sosnovo-ozerskoye data processing\n",
      "✅taksimo data processing\n",
      "✅moroni data processing\n",
      "✅liku data processing\n",
      "✅port hedland data processing\n",
      "✅lingao data processing\n",
      "✅acapulco data processing\n",
      "❌yverdon not found\n",
      "✅praia da vitoria data processing\n",
      "✅kununurra data processing\n",
      "✅moree data processing\n",
      "✅makaleng data processing\n",
      "✅avera data processing\n",
      "✅maarianhamina data processing\n",
      "✅abha data processing\n",
      "✅zhangjiakou data processing\n",
      "✅polunochnoye data processing\n",
      "❌halalo not found\n",
      "✅camacha data processing\n",
      "✅dukat data processing\n",
      "✅san jose data processing\n",
      "✅bud data processing\n",
      "✅helena data processing\n",
      "✅salo data processing\n",
      "✅pitimbu data processing\n",
      "✅shiloh data processing\n",
      "✅prince rupert data processing\n",
      "✅luanda data processing\n",
      "✅bontang data processing\n",
      "✅tornio data processing\n",
      "✅verkhnyaya inta data processing\n",
      "❌xadani not found\n",
      "✅springhill data processing\n",
      "✅tarata data processing\n",
      "✅saint-augustin data processing\n",
      "✅baculin data processing\n",
      "❌saint combs not found\n",
      "✅tanout data processing\n",
      "✅constitucion data processing\n",
      "✅feni data processing\n",
      "✅telford data processing\n",
      "✅jinxiang data processing\n",
      "✅tabou data processing\n",
      "✅kruisfontein data processing\n",
      "✅lavrentiya data processing\n",
      "✅messina data processing\n",
      "❌utiroa not found\n",
      "❌alotau not found\n",
      "✅xiuyan data processing\n",
      "✅ngunguru data processing\n",
      "✅mecca data processing\n",
      "✅solnechnyy data processing\n",
      "✅klyuchi data processing\n",
      "✅puerto leguizamo data processing\n",
      "✅buala data processing\n",
      "✅taywarah data processing\n",
      "✅shingu data processing\n",
      "✅pala data processing\n",
      "✅pyatnitskoye data processing\n",
      "✅batagay data processing\n",
      "✅shelopugino data processing\n",
      "✅santa rita data processing\n",
      "✅dhali data processing\n",
      "✅miri data processing\n",
      "✅muros data processing\n",
      "✅kaeo data processing\n",
      "✅paranaiba data processing\n",
      "✅road town data processing\n",
      "✅souillac data processing\n",
      "✅murgab data processing\n",
      "✅whitehorse data processing\n",
      "✅covington data processing\n",
      "✅kostomuksha data processing\n",
      "✅itoman data processing\n",
      "✅bulgan data processing\n",
      "✅palizada data processing\n",
      "✅kualakapuas data processing\n",
      "✅shar data processing\n",
      "✅krasnaya gora data processing\n",
      "✅placido de castro data processing\n",
      "✅tura data processing\n",
      "✅eenhana data processing\n",
      "✅kaiyuan data processing\n",
      "✅qeshm data processing\n",
      "✅alappuzha data processing\n",
      "✅sabang data processing\n",
      "✅bahia blanca data processing\n",
      "✅omboue data processing\n",
      "✅naini tal data processing\n",
      "✅kulhudhuffushi data processing\n",
      "✅hofn data processing\n",
      "✅bilibino data processing\n",
      "✅dandong data processing\n",
      "✅misratah data processing\n",
      "✅alta floresta data processing\n",
      "✅touros data processing\n",
      "✅ormara data processing\n",
      "✅saurimo data processing\n",
      "✅port moresby data processing\n",
      "✅husavik data processing\n",
      "✅clarksburg data processing\n",
      "✅tamandare data processing\n",
      "✅sao joao da barra data processing\n",
      "✅padang data processing\n",
      "✅merritt data processing\n",
      "✅livingstonia data processing\n",
      "✅taoudenni data processing\n",
      "✅central point data processing\n",
      "✅jasidih data processing\n",
      "❌lolua not found\n",
      "✅belmonte data processing\n",
      "✅naujamiestis data processing\n",
      "✅shelburne data processing\n",
      "✅manama data processing\n",
      "✅itarema data processing\n",
      "✅puerto baquerizo moreno data processing\n",
      "✅killybegs data processing\n",
      "✅elat data processing\n",
      "✅gizo data processing\n",
      "✅gold coast data processing\n",
      "✅ponta delgada data processing\n",
      "✅jabinyanah data processing\n",
      "✅rock springs data processing\n",
      "✅pinsk data processing\n",
      "✅lagos data processing\n",
      "✅saint-pierre data processing\n",
      "✅nuevo progreso data processing\n",
      "✅kieta data processing\n",
      "✅caala data processing\n",
      "✅almaznyy data processing\n",
      "✅kenai data processing\n",
      "❌warqla not found\n",
      "✅znamenskoye data processing\n",
      "✅serebryanyy bor data processing\n",
      "✅jinchang data processing\n",
      "✅arinos data processing\n",
      "✅plastun data processing\n",
      "✅anito data processing\n",
      "✅zhezkazgan data processing\n",
      "✅khunti data processing\n",
      "❌jiroft not found\n",
      "✅menongue data processing\n",
      "✅mirwah data processing\n",
      "✅miramar data processing\n",
      "✅marzuq data processing\n",
      "✅bonfim data processing\n",
      "✅miyako data processing\n",
      "✅wainwright data processing\n",
      "✅teahupoo data processing\n",
      "✅hervey bay data processing\n",
      "✅waynesboro data processing\n",
      "✅teresopolis data processing\n",
      "✅foca data processing\n",
      "✅pizarro data processing\n",
      "✅avrille data processing\n",
      "✅san bartolo data processing\n",
      "✅zheleznogorsk-ilimskiy data processing\n",
      "✅lumberton data processing\n",
      "✅soyo data processing\n",
      "❌mys shmidta not found\n",
      "✅ternate data processing\n",
      "✅dunmore town data processing\n",
      "❌rungata not found\n",
      "✅qianan data processing\n",
      "✅zhangye data processing\n",
      "✅porto novo data processing\n",
      "✅taltal data processing\n",
      "✅devonport data processing\n",
      "✅quatre cocos data processing\n",
      "✅ebejico data processing\n",
      "❌sansai not found\n",
      "✅port shepstone data processing\n",
      "✅salina cruz data processing\n"
     ]
    },
    {
     "name": "stdout",
     "output_type": "stream",
     "text": [
      "✅voykove data processing\n",
      "✅mananjary data processing\n",
      "✅alnashi data processing\n",
      "✅babaita data processing\n",
      "✅houma data processing\n",
      "✅bonavista data processing\n",
      "✅sampit data processing\n",
      "✅nandyal data processing\n",
      "✅boyolangu data processing\n",
      "✅balkanabat data processing\n",
      "✅deputatskiy data processing\n",
      "❌jabiru not found\n",
      "✅staryy nadym data processing\n",
      "✅mahina data processing\n",
      "✅teguise data processing\n",
      "✅mackay data processing\n",
      "✅moose factory data processing\n",
      "✅watford data processing\n",
      "✅capitan bado data processing\n",
      "✅riachao das neves data processing\n",
      "✅guatire data processing\n",
      "✅caiaponia data processing\n",
      "✅ballinasloe data processing\n",
      "✅itapecerica data processing\n",
      "✅poole data processing\n",
      "✅xiamen data processing\n",
      "✅batagay-alyta data processing\n",
      "✅uige data processing\n",
      "✅malinovskiy data processing\n",
      "✅santa marta data processing\n",
      "✅haaksbergen data processing\n",
      "✅burns lake data processing\n",
      "❌beypur not found\n",
      "❌ngukurr not found\n",
      "✅kabalo data processing\n",
      "✅kumluca data processing\n",
      "✅karratha data processing\n",
      "✅saquena data processing\n",
      "✅ujiie data processing\n",
      "✅seydi data processing\n",
      "❌formoso do araguaia not found\n",
      "✅cherskiy data processing\n",
      "✅palmer data processing\n",
      "✅narayangarh data processing\n",
      "✅aksu data processing\n",
      "✅holetown data processing\n",
      "✅pedro juan caballero data processing\n",
      "✅anloga data processing\n",
      "✅manakara data processing\n",
      "✅usinsk data processing\n",
      "❌one hundred mile house not found\n",
      "✅sharjah data processing\n",
      "✅punta de bombon data processing\n",
      "✅sindor data processing\n",
      "✅port lincoln data processing\n",
      "✅narayanavanam data processing\n",
      "✅campoverde data processing\n",
      "✅cartagena data processing\n",
      "✅oistins data processing\n",
      "✅cape canaveral data processing\n",
      "✅currais novos data processing\n",
      "✅belaya gora data processing\n",
      "✅tadine data processing\n",
      "✅letlhakane data processing\n",
      "✅ust-ilimsk data processing\n",
      "✅marrakesh data processing\n",
      "✅gradinari data processing\n",
      "✅seia data processing\n",
      "✅lazaro cardenas data processing\n",
      "✅san antonio data processing\n",
      "✅meadow lake data processing\n",
      "✅gigmoto data processing\n",
      "✅booue data processing\n",
      "✅urengoy data processing\n",
      "✅huilong data processing\n",
      "✅puerto escondido data processing\n",
      "✅mayor pablo lagerenza data processing\n",
      "✅ginir data processing\n",
      "✅solenzo data processing\n",
      "✅hokitika data processing\n",
      "✅mirnyy data processing\n",
      "✅djibo data processing\n",
      "✅sao felix do xingu data processing\n",
      "✅aykhal data processing\n",
      "✅challapata data processing\n",
      "✅sheksna data processing\n",
      "✅mokhotlong data processing\n",
      "✅pincher creek data processing\n",
      "✅cuenca data processing\n",
      "❌palkaka not found\n",
      "✅bisho data processing\n",
      "✅papetoai data processing\n",
      "✅biu data processing\n",
      "✅linares data processing\n",
      "✅mandalgovi data processing\n",
      "✅mizdah data processing\n",
      "✅olinda data processing\n",
      "✅huntsville data processing\n",
      "✅makokou data processing\n",
      "✅kasane data processing\n",
      "✅caluquembe data processing\n",
      "✅artyom data processing\n",
      "✅shitanjing data processing\n",
      "✅chicama data processing\n",
      "✅shubarshi data processing\n",
      "✅easley data processing\n",
      "✅inverness data processing\n",
      "✅emerald data processing\n",
      "✅talcahuano data processing\n",
      "✅port macquarie data processing\n",
      "✅hobyo data processing\n",
      "✅sobolevo data processing\n",
      "✅khorixas data processing\n",
      "✅sawtell data processing\n",
      "✅bonoua data processing\n",
      "✅kayes data processing\n",
      "✅lasa data processing\n",
      "✅swan river data processing\n",
      "✅nouadhibou data processing\n",
      "✅dunedin data processing\n",
      "✅saint-joseph data processing\n",
      "✅ekhabi data processing\n",
      "✅itupeva data processing\n",
      "✅calabozo data processing\n"
     ]
    }
   ],
   "source": [
    "# Save config information\n",
    "url = \"http://api.openweathermap.org/data/2.5/weather?\"\n",
    "\n",
    "cities_found = []\n",
    "cloudiness = []\n",
    "countries = []\n",
    "dates = []\n",
    "humidities = []\n",
    "lats = []\n",
    "lngs = []\n",
    "max_temps = []\n",
    "wind_speeds = []\n",
    "\n",
    "# Use iterrows to loop through dataframe using the city name\n",
    "for city in cities:\n",
    "    time.sleep(1)\n",
    "    # Build query URL | F-strings can be used too.\n",
    "    # query_url = f\"{url}\"\"\n",
    "    query_url = url + \"appid=\" + weather_api_key + \"&q=\" + city.replace(\" \",\"+\")\n",
    "\n",
    "    # Get weather data\n",
    "    weather_response = requests.get(query_url)\n",
    "    #convert to a json\n",
    "    weather_json = weather_response.json()\n",
    "    try:\n",
    "        dates.append(dt.datetime.fromtimestamp(int(weather_json['dt'])).strftime('%Y-%m-%d %H:%M:%S'))\n",
    "        cloudiness.append(weather_json['clouds']['all'])\n",
    "        countries.append(weather_json['sys']['country'])\n",
    "        humidities.append(weather_json['main']['humidity'])\n",
    "        lats.append(weather_json['coord']['lat'])\n",
    "        lngs.append(weather_json['coord']['lon'])\n",
    "        max_temps.append(weather_json['main']['temp_max'])\n",
    "        wind_speeds.append(weather_json['wind']['speed'])\n",
    "        cities_found.append(city)\n",
    "        \n",
    "        print(f\"✅{city} data processing\")\n",
    "    \n",
    "    except:\n",
    "        print(f\"❌{city} not found\")\n",
    "\n",
    "  \n",
    "    \n",
    "    \n"
   ]
  },
  {
   "cell_type": "code",
   "execution_count": 143,
   "metadata": {},
   "outputs": [
    {
     "data": {
      "text/plain": [
       "700"
      ]
     },
     "execution_count": 143,
     "metadata": {},
     "output_type": "execute_result"
    }
   ],
   "source": [
    "#sum of countries\n",
    "len(countries)"
   ]
  },
  {
   "cell_type": "markdown",
   "metadata": {},
   "source": [
    "### Convert Raw Data to DataFrame\n",
    "* Export the city data into a .csv.\n",
    "* Display the DataFrame"
   ]
  },
  {
   "cell_type": "code",
   "execution_count": 137,
   "metadata": {},
   "outputs": [
    {
     "data": {
      "text/html": [
       "<div>\n",
       "<style scoped>\n",
       "    .dataframe tbody tr th:only-of-type {\n",
       "        vertical-align: middle;\n",
       "    }\n",
       "\n",
       "    .dataframe tbody tr th {\n",
       "        vertical-align: top;\n",
       "    }\n",
       "\n",
       "    .dataframe thead th {\n",
       "        text-align: right;\n",
       "    }\n",
       "</style>\n",
       "<table border=\"1\" class=\"dataframe\">\n",
       "  <thead>\n",
       "    <tr style=\"text-align: right;\">\n",
       "      <th></th>\n",
       "      <th>Date</th>\n",
       "      <th>City</th>\n",
       "      <th>Country</th>\n",
       "      <th>Cloudiness</th>\n",
       "      <th>Humidity</th>\n",
       "      <th>Latitude</th>\n",
       "      <th>Longitude</th>\n",
       "      <th>Maximum Temp</th>\n",
       "      <th>Wind Speed</th>\n",
       "    </tr>\n",
       "  </thead>\n",
       "  <tbody>\n",
       "    <tr>\n",
       "      <th>0</th>\n",
       "      <td>2021-06-02 12:32:59</td>\n",
       "      <td>dali</td>\n",
       "      <td>CN</td>\n",
       "      <td>37</td>\n",
       "      <td>86</td>\n",
       "      <td>25.7000</td>\n",
       "      <td>100.1833</td>\n",
       "      <td>291.24</td>\n",
       "      <td>2.57</td>\n",
       "    </tr>\n",
       "    <tr>\n",
       "      <th>1</th>\n",
       "      <td>2021-06-02 12:33:01</td>\n",
       "      <td>bluff</td>\n",
       "      <td>NZ</td>\n",
       "      <td>71</td>\n",
       "      <td>81</td>\n",
       "      <td>-46.6000</td>\n",
       "      <td>168.3333</td>\n",
       "      <td>283.04</td>\n",
       "      <td>4.65</td>\n",
       "    </tr>\n",
       "    <tr>\n",
       "      <th>2</th>\n",
       "      <td>2021-06-02 12:33:02</td>\n",
       "      <td>norman wells</td>\n",
       "      <td>CA</td>\n",
       "      <td>75</td>\n",
       "      <td>76</td>\n",
       "      <td>65.2820</td>\n",
       "      <td>-126.8329</td>\n",
       "      <td>280.17</td>\n",
       "      <td>4.63</td>\n",
       "    </tr>\n",
       "    <tr>\n",
       "      <th>3</th>\n",
       "      <td>2021-06-02 12:33:05</td>\n",
       "      <td>leningradskiy</td>\n",
       "      <td>RU</td>\n",
       "      <td>59</td>\n",
       "      <td>94</td>\n",
       "      <td>69.3833</td>\n",
       "      <td>178.4167</td>\n",
       "      <td>269.84</td>\n",
       "      <td>4.36</td>\n",
       "    </tr>\n",
       "    <tr>\n",
       "      <th>4</th>\n",
       "      <td>2021-06-02 12:33:06</td>\n",
       "      <td>tuatapere</td>\n",
       "      <td>NZ</td>\n",
       "      <td>30</td>\n",
       "      <td>89</td>\n",
       "      <td>-46.1333</td>\n",
       "      <td>167.6833</td>\n",
       "      <td>283.05</td>\n",
       "      <td>2.35</td>\n",
       "    </tr>\n",
       "    <tr>\n",
       "      <th>...</th>\n",
       "      <td>...</td>\n",
       "      <td>...</td>\n",
       "      <td>...</td>\n",
       "      <td>...</td>\n",
       "      <td>...</td>\n",
       "      <td>...</td>\n",
       "      <td>...</td>\n",
       "      <td>...</td>\n",
       "      <td>...</td>\n",
       "    </tr>\n",
       "    <tr>\n",
       "      <th>695</th>\n",
       "      <td>2021-06-02 12:50:21</td>\n",
       "      <td>dunedin</td>\n",
       "      <td>NZ</td>\n",
       "      <td>1</td>\n",
       "      <td>88</td>\n",
       "      <td>-45.8742</td>\n",
       "      <td>170.5036</td>\n",
       "      <td>280.82</td>\n",
       "      <td>0.45</td>\n",
       "    </tr>\n",
       "    <tr>\n",
       "      <th>696</th>\n",
       "      <td>2021-06-02 12:50:22</td>\n",
       "      <td>saint-joseph</td>\n",
       "      <td>RE</td>\n",
       "      <td>95</td>\n",
       "      <td>79</td>\n",
       "      <td>-21.3667</td>\n",
       "      <td>55.6167</td>\n",
       "      <td>297.36</td>\n",
       "      <td>6.44</td>\n",
       "    </tr>\n",
       "    <tr>\n",
       "      <th>697</th>\n",
       "      <td>2021-06-02 12:50:24</td>\n",
       "      <td>ekhabi</td>\n",
       "      <td>RU</td>\n",
       "      <td>59</td>\n",
       "      <td>95</td>\n",
       "      <td>53.5102</td>\n",
       "      <td>142.9671</td>\n",
       "      <td>279.46</td>\n",
       "      <td>2.91</td>\n",
       "    </tr>\n",
       "    <tr>\n",
       "      <th>698</th>\n",
       "      <td>2021-06-02 12:50:25</td>\n",
       "      <td>itupeva</td>\n",
       "      <td>BR</td>\n",
       "      <td>0</td>\n",
       "      <td>39</td>\n",
       "      <td>-23.1531</td>\n",
       "      <td>-47.0578</td>\n",
       "      <td>300.00</td>\n",
       "      <td>2.51</td>\n",
       "    </tr>\n",
       "    <tr>\n",
       "      <th>699</th>\n",
       "      <td>2021-06-02 12:50:27</td>\n",
       "      <td>calabozo</td>\n",
       "      <td>VE</td>\n",
       "      <td>90</td>\n",
       "      <td>56</td>\n",
       "      <td>8.9242</td>\n",
       "      <td>-67.4293</td>\n",
       "      <td>303.22</td>\n",
       "      <td>2.08</td>\n",
       "    </tr>\n",
       "  </tbody>\n",
       "</table>\n",
       "<p>700 rows × 9 columns</p>\n",
       "</div>"
      ],
      "text/plain": [
       "                    Date           City Country  Cloudiness  Humidity  \\\n",
       "0    2021-06-02 12:32:59           dali      CN          37        86   \n",
       "1    2021-06-02 12:33:01          bluff      NZ          71        81   \n",
       "2    2021-06-02 12:33:02   norman wells      CA          75        76   \n",
       "3    2021-06-02 12:33:05  leningradskiy      RU          59        94   \n",
       "4    2021-06-02 12:33:06      tuatapere      NZ          30        89   \n",
       "..                   ...            ...     ...         ...       ...   \n",
       "695  2021-06-02 12:50:21        dunedin      NZ           1        88   \n",
       "696  2021-06-02 12:50:22   saint-joseph      RE          95        79   \n",
       "697  2021-06-02 12:50:24         ekhabi      RU          59        95   \n",
       "698  2021-06-02 12:50:25        itupeva      BR           0        39   \n",
       "699  2021-06-02 12:50:27       calabozo      VE          90        56   \n",
       "\n",
       "     Latitude  Longitude  Maximum Temp  Wind Speed  \n",
       "0     25.7000   100.1833        291.24        2.57  \n",
       "1    -46.6000   168.3333        283.04        4.65  \n",
       "2     65.2820  -126.8329        280.17        4.63  \n",
       "3     69.3833   178.4167        269.84        4.36  \n",
       "4    -46.1333   167.6833        283.05        2.35  \n",
       "..        ...        ...           ...         ...  \n",
       "695  -45.8742   170.5036        280.82        0.45  \n",
       "696  -21.3667    55.6167        297.36        6.44  \n",
       "697   53.5102   142.9671        279.46        2.91  \n",
       "698  -23.1531   -47.0578        300.00        2.51  \n",
       "699    8.9242   -67.4293        303.22        2.08  \n",
       "\n",
       "[700 rows x 9 columns]"
      ]
     },
     "execution_count": 137,
     "metadata": {},
     "output_type": "execute_result"
    }
   ],
   "source": [
    "# cities_found = []\n",
    "# cloudiness = []\n",
    "# countries = []\n",
    "# dates = []\n",
    "# humidities = []\n",
    "# lats = []\n",
    "# lngs = []\n",
    "# max_temps = []\n",
    "# wind_speeds = []\n",
    "\n",
    "# Convert city list to dataframe and rename column to \"city\"\n",
    "\n",
    "weather_data = pd.DataFrame({\n",
    "    \"Date\": dates,\n",
    "    \"City\": cities_found,\n",
    "    \"Country\": countries,\n",
    "    \"Cloudiness\": cloudiness,\n",
    "    \"Humidity\": humidities,\n",
    "    \"Latitude\": lats,\n",
    "    \"Longitude\": lngs,\n",
    "    \"Maximum Temp\": max_temps,\n",
    "    \"Wind Speed\": wind_speeds\n",
    "    \n",
    "})\n",
    "\n",
    "weather_data"
   ]
  },
  {
   "cell_type": "code",
   "execution_count": 138,
   "metadata": {},
   "outputs": [],
   "source": [
    "weather_data.to_csv(\"WeatherPyData.csv\")"
   ]
  },
  {
   "cell_type": "code",
   "execution_count": 139,
   "metadata": {},
   "outputs": [
    {
     "data": {
      "text/plain": [
       "Date            700\n",
       "City            700\n",
       "Country         700\n",
       "Cloudiness      700\n",
       "Humidity        700\n",
       "Latitude        700\n",
       "Longitude       700\n",
       "Maximum Temp    700\n",
       "Wind Speed      700\n",
       "dtype: int64"
      ]
     },
     "execution_count": 139,
     "metadata": {},
     "output_type": "execute_result"
    }
   ],
   "source": [
    "weather_data.count()"
   ]
  },
  {
   "cell_type": "markdown",
   "metadata": {},
   "source": [
    "## Inspect the data and remove the cities where the humidity > 100%.\n",
    "----\n",
    "Skip this step if there are no cities that have humidity > 100%. "
   ]
  },
  {
   "cell_type": "code",
   "execution_count": 140,
   "metadata": {},
   "outputs": [
    {
     "data": {
      "text/html": [
       "<div>\n",
       "<style scoped>\n",
       "    .dataframe tbody tr th:only-of-type {\n",
       "        vertical-align: middle;\n",
       "    }\n",
       "\n",
       "    .dataframe tbody tr th {\n",
       "        vertical-align: top;\n",
       "    }\n",
       "\n",
       "    .dataframe thead th {\n",
       "        text-align: right;\n",
       "    }\n",
       "</style>\n",
       "<table border=\"1\" class=\"dataframe\">\n",
       "  <thead>\n",
       "    <tr style=\"text-align: right;\">\n",
       "      <th></th>\n",
       "      <th>Date</th>\n",
       "      <th>City</th>\n",
       "      <th>Country</th>\n",
       "      <th>Cloudiness</th>\n",
       "      <th>Humidity</th>\n",
       "      <th>Latitude</th>\n",
       "      <th>Longitude</th>\n",
       "      <th>Maximum Temp</th>\n",
       "      <th>Wind Speed</th>\n",
       "    </tr>\n",
       "  </thead>\n",
       "  <tbody>\n",
       "  </tbody>\n",
       "</table>\n",
       "</div>"
      ],
      "text/plain": [
       "Empty DataFrame\n",
       "Columns: [Date, City, Country, Cloudiness, Humidity, Latitude, Longitude, Maximum Temp, Wind Speed]\n",
       "Index: []"
      ]
     },
     "execution_count": 140,
     "metadata": {},
     "output_type": "execute_result"
    }
   ],
   "source": [
    "weather_data[weather_data[\"Humidity\"]>100]"
   ]
  },
  {
   "cell_type": "code",
   "execution_count": 141,
   "metadata": {},
   "outputs": [],
   "source": [
    "#  Get the indices of cities that have humidity over 100%.\n",
    "#no cities found with humidity over 100 - skipping"
   ]
  },
  {
   "cell_type": "code",
   "execution_count": 142,
   "metadata": {},
   "outputs": [],
   "source": [
    "# Make a new DataFrame equal to the city data to drop all humidity outliers by index.\n",
    "# Passing \"inplace=False\" will make a copy of the city_data DataFrame, which we call \"clean_city_data\".\n"
   ]
  },
  {
   "cell_type": "code",
   "execution_count": null,
   "metadata": {},
   "outputs": [],
   "source": [
    "\n"
   ]
  },
  {
   "cell_type": "markdown",
   "metadata": {},
   "source": [
    "## Plotting the Data\n",
    "* Use proper labeling of the plots using plot titles (including date of analysis) and axes labels.\n",
    "* Save the plotted figures as .pngs."
   ]
  },
  {
   "cell_type": "code",
   "execution_count": 176,
   "metadata": {},
   "outputs": [],
   "source": [
    "import matplotlib.pyplot as plt"
   ]
  },
  {
   "cell_type": "markdown",
   "metadata": {},
   "source": [
    "## Latitude vs. Temperature Plot"
   ]
  },
  {
   "cell_type": "code",
   "execution_count": 178,
   "metadata": {
    "scrolled": true
   },
   "outputs": [
    {
     "data": {
      "text/plain": [
       "<AxesSubplot:title={'center':'City Latitude Vs. Max Temperature'}, xlabel='Latitude', ylabel='Maximum Temp'>"
      ]
     },
     "execution_count": 178,
     "metadata": {},
     "output_type": "execute_result"
    },
    {
     "data": {
      "image/png": "[encoded data removed]",
      "text/plain": [
       "<Figure size 432x432 with 1 Axes>"
      ]
     },
     "metadata": {
      "needs_background": "light"
     },
     "output_type": "display_data"
    }
   ],
   "source": [
    "weather_data.plot.scatter(x ='Latitude', y ='Maximum Temp', marker = \"o\",grid=True, figsize=(6,6), edgecolors = \"pink\", alpha = 0.65, title=\"City Latitude Vs. Max Temperature\")\n",
    "\n",
    "plt.savefig('../Images/citylat_vs_maxtemp.png')"
   ]
  },
  {
   "cell_type": "markdown",
   "metadata": {},
   "source": [
    "## Latitude vs. Humidity Plot"
   ]
  },
  {
   "cell_type": "code",
   "execution_count": 179,
   "metadata": {},
   "outputs": [
    {
     "data": {
      "text/plain": [
       "<AxesSubplot:title={'center':'City Latitude Vs. Humidity'}, xlabel='Latitude', ylabel='Humidity'>"
      ]
     },
     "execution_count": 179,
     "metadata": {},
     "output_type": "execute_result"
    },
    {
     "data": {
      "image/png": "[encoded data removed]",
      "text/plain": [
       "<Figure size 432x432 with 1 Axes>"
      ]
     },
     "metadata": {
      "needs_background": "light"
     },
     "output_type": "display_data"
    }
   ],
   "source": [
    "weather_data.plot.scatter(x ='Latitude', y ='Humidity', marker = \"o\",grid=True, figsize=(6,6), \n",
    "               edgecolors = \"red\", alpha = 0.65, title=\"City Latitude Vs. Humidity\")\n",
    "\n",
    "plt.savefig('../Images/citylat_vs_humidity.png')"
   ]
  },
  {
   "cell_type": "markdown",
   "metadata": {},
   "source": [
    "## Latitude vs. Cloudiness Plot"
   ]
  },
  {
   "cell_type": "code",
   "execution_count": 170,
   "metadata": {},
   "outputs": [
    {
     "data": {
      "text/plain": [
       "<AxesSubplot:title={'center':'City Latitude Vs. Cloudiness'}, xlabel='Latitude', ylabel='Cloudiness'>"
      ]
     },
     "execution_count": 170,
     "metadata": {},
     "output_type": "execute_result"
    },
    {
     "data": {
      "image/png": "[encoded data removed]",
      "text/plain": [
       "<Figure size 432x432 with 1 Axes>"
      ]
     },
     "metadata": {
      "needs_background": "light"
     },
     "output_type": "display_data"
    }
   ],
   "source": [
    "weather_data.plot.scatter(x ='Latitude', y ='Cloudiness', marker = \"o\",grid=True, figsize=(6,6), edgecolors = 'k', alpha = 0.65, title=\"City Latitude Vs. Cloudiness\")\n",
    "plt.savefig('../Images/citylat_vs_cloudiness.png')"
   ]
  },
  {
   "cell_type": "markdown",
   "metadata": {},
   "source": [
    "## Latitude vs. Wind Speed Plot"
   ]
  },
  {
   "cell_type": "code",
   "execution_count": 172,
   "metadata": {},
   "outputs": [
    {
     "data": {
      "text/plain": [
       "<AxesSubplot:title={'center':'City Latitude Vs. Wind Speed'}, xlabel='Latitude', ylabel='Wind Speed'>"
      ]
     },
     "execution_count": 172,
     "metadata": {},
     "output_type": "execute_result"
    },
    {
     "data": {
      "image/png": "[encoded data removed]",
      "text/plain": [
       "<Figure size 432x432 with 1 Axes>"
      ]
     },
     "metadata": {
      "needs_background": "light"
     },
     "output_type": "display_data"
    }
   ],
   "source": [
    "weather_data.plot.scatter(x ='Latitude', y ='Wind Speed', marker = \"o\",grid=True, figsize=(6,6), edgecolors = 'r', alpha = 0.65, title=\"City Latitude Vs. Wind Speed\")\n",
    "plt.savefig('../Images/citylat_vs_wind.png')\n",
    "\n"
   ]
  },
  {
   "cell_type": "markdown",
   "metadata": {},
   "source": [
    "## Linear Regression"
   ]
  },
  {
   "cell_type": "code",
   "execution_count": null,
   "metadata": {},
   "outputs": [],
   "source": []
  },
  {
   "cell_type": "markdown",
   "metadata": {},
   "source": [
    "####  Northern Hemisphere - Max Temp vs. Latitude Linear Regression"
   ]
  },
  {
   "cell_type": "code",
   "execution_count": null,
   "metadata": {},
   "outputs": [],
   "source": []
  },
  {
   "cell_type": "markdown",
   "metadata": {},
   "source": [
    "####  Southern Hemisphere - Max Temp vs. Latitude Linear Regression"
   ]
  },
  {
   "cell_type": "code",
   "execution_count": null,
   "metadata": {},
   "outputs": [],
   "source": []
  },
  {
   "cell_type": "markdown",
   "metadata": {},
   "source": [
    "####  Northern Hemisphere - Humidity (%) vs. Latitude Linear Regression"
   ]
  },
  {
   "cell_type": "code",
   "execution_count": null,
   "metadata": {},
   "outputs": [],
   "source": []
  },
  {
   "cell_type": "markdown",
   "metadata": {},
   "source": [
    "####  Southern Hemisphere - Humidity (%) vs. Latitude Linear Regression"
   ]
  },
  {
   "cell_type": "code",
   "execution_count": null,
   "metadata": {},
   "outputs": [],
   "source": []
  },
  {
   "cell_type": "markdown",
   "metadata": {},
   "source": [
    "####  Northern Hemisphere - Cloudiness (%) vs. Latitude Linear Regression"
   ]
  },
  {
   "cell_type": "code",
   "execution_count": null,
   "metadata": {},
   "outputs": [],
   "source": []
  },
  {
   "cell_type": "markdown",
   "metadata": {},
   "source": [
    "####  Southern Hemisphere - Cloudiness (%) vs. Latitude Linear Regression"
   ]
  },
  {
   "cell_type": "code",
   "execution_count": null,
   "metadata": {},
   "outputs": [],
   "source": []
  },
  {
   "cell_type": "markdown",
   "metadata": {},
   "source": [
    "####  Northern Hemisphere - Wind Speed (mph) vs. Latitude Linear Regression"
   ]
  },
  {
   "cell_type": "code",
   "execution_count": null,
   "metadata": {},
   "outputs": [],
   "source": []
  },
  {
   "cell_type": "markdown",
   "metadata": {},
   "source": [
    "####  Southern Hemisphere - Wind Speed (mph) vs. Latitude Linear Regression"
   ]
  },
  {
   "cell_type": "code",
   "execution_count": null,
   "metadata": {},
   "outputs": [],
   "source": []
  },
  {
   "cell_type": "code",
   "execution_count": null,
   "metadata": {},
   "outputs": [],
   "source": []
  }
 ],
 "metadata": {
  "anaconda-cloud": {},
  "kernel_info": {
   "name": "python3"
  },
  "kernelspec": {
   "display_name": "Python 3",
   "language": "python",
   "name": "python3"
  },
  "language_info": {
   "codemirror_mode": {
    "name": "ipython",
    "version": 3
   },
   "file_extension": ".py",
   "mimetype": "text/x-python",
   "name": "python",
   "nbconvert_exporter": "python",
   "pygments_lexer": "ipython3",
   "version": "3.8.5"
  },
  "latex_envs": {
   "LaTeX_envs_menu_present": true,
   "autoclose": false,
   "autocomplete": true,
   "bibliofile": "biblio.bib",
   "cite_by": "apalike",
   "current_citInitial": 1,
   "eqLabelWithNumbers": true,
   "eqNumInitial": 1,
   "hotkeys": {
    "equation": "Ctrl-E",
    "itemize": "Ctrl-I"
   },
   "labels_anchors": false,
   "latex_user_defs": false,
   "report_style_numbering": false,
   "user_envs_cfg": false
  },
  "nteract": {
   "version": "0.12.3"
  }
 },
 "nbformat": 4,
 "nbformat_minor": 2
}
